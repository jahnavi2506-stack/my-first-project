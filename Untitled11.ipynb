{
  "nbformat": 4,
  "nbformat_minor": 0,
  "metadata": {
    "colab": {
      "provenance": [],
      "authorship_tag": "ABX9TyO/Wdt4XSCoVCSwfWh1TbYn",
      "include_colab_link": true
    },
    "kernelspec": {
      "name": "python3",
      "display_name": "Python 3"
    },
    "language_info": {
      "name": "python"
    }
  },
  "cells": [
    {
      "cell_type": "markdown",
      "metadata": {
        "id": "view-in-github",
        "colab_type": "text"
      },
      "source": [
        "<a href=\"https://colab.research.google.com/github/jahnavi2506-stack/my-first-project/blob/main/Untitled11.ipynb\" target=\"_parent\"><img src=\"https://colab.research.google.com/assets/colab-badge.svg\" alt=\"Open In Colab\"/></a>"
      ]
    },
    {
      "cell_type": "code",
      "execution_count": null,
      "metadata": {
        "colab": {
          "base_uri": "https://localhost:8080/"
        },
        "id": "QWZfVakGJHzZ",
        "outputId": "1d0b7c81-4365-4f73-d5c5-88aa1506071e"
      },
      "outputs": [
        {
          "output_type": "stream",
          "name": "stdout",
          "text": [
            "Added 50 of Apples at $0.5 each.\n",
            "Added 100 of Oranges at $0.75 each.\n",
            "Item: Apples, Quantity: 50, Price: $0.5\n",
            "Item: Oranges, Quantity: 100, Price: $0.75\n",
            "Removed 20 of Apples.\n",
            "Item: Apples, Quantity: 30, Price: $0.5\n",
            "Item: Oranges, Quantity: 100, Price: $0.75\n",
            "Removed 30 of Apples.\n",
            "Item: Oranges, Quantity: 100, Price: $0.75\n",
            "Item not found in inventory.\n",
            "Added 25 of Apples at $0.5 each.\n",
            "Item: Oranges, Quantity: 100, Price: $0.75\n",
            "Item: Apples, Quantity: 25, Price: $0.5\n"
          ]
        }
      ],
      "source": [
        "# Define the inventory dictionary\n",
        "inventory = {}\n",
        "\n",
        "def add_item(item_name, quantity, price):\n",
        "    if item_name in inventory:\n",
        "        inventory[item_name]['quantity'] += quantity\n",
        "    else:\n",
        "        inventory[item_name] = {'quantity': quantity, 'price': price}\n",
        "    return f\"Added {quantity} of {item_name} at ${price} each.\"\n",
        "\n",
        "def remove_item(item_name, quantity):\n",
        "    if item_name in inventory:\n",
        "        if inventory[item_name]['quantity'] >= quantity:\n",
        "            inventory[item_name]['quantity'] -= quantity\n",
        "            if inventory[item_name]['quantity'] == 0:\n",
        "                del inventory[item_name]\n",
        "            return f\"Removed {quantity} of {item_name}.\"\n",
        "        else:\n",
        "            return f\"Not enough {item_name} in inventory to remove {quantity}.\"\n",
        "    else:\n",
        "        return \"Item not found in inventory.\"\n",
        "\n",
        "def view_inventory():\n",
        "    if not inventory:\n",
        "        return \"No items in inventory.\"\n",
        "    inventory_list = \"\\n\".join([f\"Item: {item}, Quantity: {details['quantity']}, Price: ${details['price']}\"\n",
        "                                for item, details in inventory.items()])\n",
        "    return inventory_list\n",
        "\n",
        "# Example usage\n",
        "print(add_item(\"Apples\", 50, 0.5))\n",
        "print(add_item(\"Oranges\", 100, 0.75))\n",
        "print(view_inventory())\n",
        "print(remove_item(\"Apples\", 20))\n",
        "print(view_inventory())\n",
        "print(remove_item(\"Apples\", 30))\n",
        "print(view_inventory())\n",
        "print(remove_item(\"Bananas\", 10))  # Attempt to remove an item not in inventory\n",
        "print(add_item(\"Apples\", 25, 0.5))  # Re-adding an item\n",
        "print(view_inventory())\n"
      ]
    },
    {
      "cell_type": "code",
      "source": [
        "# Define the structure of an account\n",
        "accounts = {}\n",
        "\n",
        "def create_account(account_number, account_holder, initial_balance=0):\n",
        "    if account_number in accounts:\n",
        "        return \"Account already exists.\"\n",
        "    accounts[account_number] = {\n",
        "        'holder': account_holder,\n",
        "        'balance': initial_balance\n",
        "    }\n",
        "    return f\"Account created for {account_holder} with balance {initial_balance}.\"\n",
        "\n",
        "def deposit(account_number, amount):\n",
        "    if account_number in accounts:\n",
        "        accounts[account_number]['balance'] += amount\n",
        "        return f\"Deposited {amount}. New balance: {accounts[account_number]['balance']}.\"\n",
        "    else:\n",
        "        return \"Account not found.\"\n",
        "\n",
        "def withdraw(account_number, amount):\n",
        "    if account_number in accounts:\n",
        "        if accounts[account_number]['balance'] >= amount:\n",
        "            accounts[account_number]['balance'] -= amount\n",
        "            return f\"Withdrew {amount}. New balance: {accounts[account_number]['balance']}.\"\n",
        "        else:\n",
        "            return \"Insufficient funds.\"\n",
        "    else:\n",
        "        return \"Account not found.\"\n",
        "\n",
        "def check_balance(account_number):\n",
        "    if account_number in accounts:\n",
        "        return f\"Balance: {accounts[account_number]['balance']}.\"\n",
        "    else:\n",
        "        return \"Account not found.\"\n",
        "\n",
        "# Example usage\n",
        "print(create_account(101, \"Alice\", 500))\n",
        "print(create_account(102, \"Bob\", 1000))\n",
        "print(deposit(101, 200))\n",
        "print(withdraw(102, 500))\n",
        "print(check_balance(101))\n",
        "print(check_balance(102))\n",
        "print(withdraw(101, 1000))  # Attempt to withdraw more than the balance\n",
        "print(deposit(103, 500))    # Attempt to deposit to a non-existent account\n"
      ],
      "metadata": {
        "colab": {
          "base_uri": "https://localhost:8080/"
        },
        "id": "JM9tfDoxNSFC",
        "outputId": "0a22fb8e-ac25-47f8-d385-ceda57cd5a1a"
      },
      "execution_count": null,
      "outputs": [
        {
          "output_type": "stream",
          "name": "stdout",
          "text": [
            "Account created for Alice with balance 500.\n",
            "Account created for Bob with balance 1000.\n",
            "Deposited 200. New balance: 700.\n",
            "Withdrew 500. New balance: 500.\n",
            "Balance: 700.\n",
            "Balance: 500.\n",
            "Insufficient funds.\n",
            "Account not found.\n"
          ]
        }
      ]
    }
  ]
}