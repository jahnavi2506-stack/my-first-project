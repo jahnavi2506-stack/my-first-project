{
  "cells": [
    {
      "cell_type": "markdown",
      "metadata": {
        "id": "view-in-github",
        "colab_type": "text"
      },
      "source": [
        "<a href=\"https://colab.research.google.com/github/jahnavi2506-stack/my-first-project/blob/main/Untitled18.ipynb\" target=\"_parent\"><img src=\"https://colab.research.google.com/assets/colab-badge.svg\" alt=\"Open In Colab\"/></a>"
      ]
    },
    {
      "cell_type": "code",
      "execution_count": null,
      "metadata": {
        "colab": {
          "background_save": true,
          "base_uri": "https://localhost:8080/"
        },
        "id": "_xepJGaomSR_",
        "outputId": "29df3b6c-cf62-415f-9016-82b307978684"
      },
      "outputs": [
        {
          "name": "stdout",
          "output_type": "stream",
          "text": [
            "\n",
            "Current directory: /content\n",
            "1. List files and directories\n",
            "2. Search for a file\n",
            "3. Move up to parent directory\n",
            "4. Quit\n",
            "\n",
            "Current directory: /\n",
            "1. List files and directories\n",
            "2. Search for a file\n",
            "3. Move up to parent directory\n",
            "4. Quit\n"
          ]
        }
      ],
      "source": [
        "import os\n",
        "\n",
        "def list_files_in_directory(directory):\n",
        "    \"\"\"Recursively list all files and subdirectories in a directory.\"\"\"\n",
        "    for item in os.listdir(directory):\n",
        "        full_path = os.path.join(directory, item)\n",
        "        if os.path.isdir(full_path):\n",
        "            print(f\"Directory: {full_path}\")\n",
        "            list_files_in_directory(full_path)  # Recursively explore subdirectories\n",
        "        else:\n",
        "            print(f\"File: {full_path}\")\n",
        "\n",
        "def search_files(directory, filename):\n",
        "    \"\"\"Recursively search for a file by name in a directory.\"\"\"\n",
        "    for item in os.listdir(directory):\n",
        "        full_path = os.path.join(directory, item)\n",
        "        if os.path.isdir(full_path):\n",
        "            search_files(full_path, filename)  # Recursively search subdirectories\n",
        "        elif filename == item:\n",
        "            print(f\"Found: {full_path}\")\n",
        "\n",
        "def main():\n",
        "    current_directory = os.getcwd()\n",
        "    while True:\n",
        "        print(\"\\nCurrent directory:\", current_directory)\n",
        "        print(\"1. List files and directories\")\n",
        "        print(\"2. Search for a file\")\n",
        "        print(\"3. Move up to parent directory\")\n",
        "        print(\"4. Quit\")\n",
        "        choice = input(\"Enter your choice: \")\n",
        "\n",
        "        if choice == \"1\":\n",
        "            list_files_in_directory(current_directory)\n",
        "        elif choice == \"2\":\n",
        "            filename = input(\"Enter the name of the file to search: \")\n",
        "            search_files(current_directory, filename)\n",
        "        elif choice == \"3\":\n",
        "            current_directory = os.path.dirname(current_directory)\n",
        "        elif choice == \"4\":\n",
        "            break\n",
        "        else:\n",
        "            print(\"Invalid choice. Please try again.\")\n",
        "\n",
        "if __name__ == \"__main__\":\n",
        "    main()"
      ]
    }
  ],
  "metadata": {
    "colab": {
      "provenance": [],
      "authorship_tag": "ABX9TyNJ8hpAD8x5gEpjEDGzgADB",
      "include_colab_link": true
    },
    "kernelspec": {
      "display_name": "Python 3",
      "name": "python3"
    },
    "language_info": {
      "name": "python"
    }
  },
  "nbformat": 4,
  "nbformat_minor": 0
}