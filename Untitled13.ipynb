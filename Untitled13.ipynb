{
  "nbformat": 4,
  "nbformat_minor": 0,
  "metadata": {
    "colab": {
      "provenance": [],
      "authorship_tag": "ABX9TyN5nF7LSmpjIx2V7+F588JQ",
      "include_colab_link": true
    },
    "kernelspec": {
      "name": "python3",
      "display_name": "Python 3"
    },
    "language_info": {
      "name": "python"
    }
  },
  "cells": [
    {
      "cell_type": "markdown",
      "metadata": {
        "id": "view-in-github",
        "colab_type": "text"
      },
      "source": [
        "<a href=\"https://colab.research.google.com/github/jahnavi2506-stack/my-first-project/blob/main/Untitled13.ipynb\" target=\"_parent\"><img src=\"https://colab.research.google.com/assets/colab-badge.svg\" alt=\"Open In Colab\"/></a>"
      ]
    },
    {
      "cell_type": "code",
      "execution_count": null,
      "metadata": {
        "id": "Y6NOaetPF-i1",
        "outputId": "63759912-3c13-4ff1-c57a-2e98f648f2f0",
        "colab": {
          "base_uri": "https://localhost:8080/"
        }
      },
      "outputs": [
        {
          "output_type": "stream",
          "name": "stdout",
          "text": [
            "Item Apple added to inventory.\n",
            "Item Banana added to inventory.\n",
            "Item with SKU 001 updated. New quantity: 150\n",
            "Item with SKU 001 removed. New quantity: 130\n",
            "SKU: 001, Name: Apple, Quantity: 130, Price: $0.50\n",
            "Item with SKU 003 does not exist.\n",
            "Inventory Report:\n",
            "SKU: 001, Name: Apple, Quantity: 130, Price: $0.50\n",
            "SKU: 002, Name: Banana, Quantity: 150, Price: $0.30\n"
          ]
        }
      ],
      "source": [
        "\n",
        "class InventoryItem:\n",
        "    def __init__(self, sku, name, quantity, price):\n",
        "        self.sku = sku\n",
        "        self.name = name\n",
        "        self.quantity = quantity\n",
        "        self.price = price\n",
        "\n",
        "class InventorySystem:\n",
        "    def __init__(self):\n",
        "        self.inventory = {}\n",
        "\n",
        "    def add_item(self, sku, name, quantity, price):\n",
        "        if sku in self.inventory:\n",
        "            print(f\"Item with SKU {sku} already exists. Updating existing item.\")\n",
        "            self.update_item(sku, quantity)\n",
        "        else:\n",
        "            self.inventory[sku] = InventoryItem(sku, name, quantity, price)\n",
        "            print(f\"Item {name} added to inventory.\")\n",
        "\n",
        "    def update_item(self, sku, quantity):\n",
        "        if sku in self.inventory:\n",
        "            self.inventory[sku].quantity += quantity\n",
        "            print(f\"Item with SKU {sku} updated. New quantity: {self.inventory[sku].quantity}\")\n",
        "        else:\n",
        "            print(f\"Item with SKU {sku} does not exist.\")\n",
        "\n",
        "    def remove_item(self, sku, quantity):\n",
        "        if sku in self.inventory:\n",
        "            if self.inventory[sku].quantity >= quantity:\n",
        "                self.inventory[sku].quantity -= quantity\n",
        "                print(f\"Item with SKU {sku} removed. New quantity: {self.inventory[sku].quantity}\")\n",
        "                if self.inventory[sku].quantity == 0:\n",
        "                    del self.inventory[sku]\n",
        "                    print(f\"Item with SKU {sku} is now out of stock and removed from inventory.\")\n",
        "            else:\n",
        "                print(f\"Not enough stock to remove. Current quantity: {self.inventory[sku].quantity}\")\n",
        "        else:\n",
        "            print(f\"Item with SKU {sku} does not exist.\")\n",
        "\n",
        "    def check_stock(self, sku):\n",
        "        if sku in self.inventory:\n",
        "            item = self.inventory[sku]\n",
        "            return f\"SKU: {item.sku}, Name: {item.name}, Quantity: {item.quantity}, Price: ${item.price:.2f}\"\n",
        "        else:\n",
        "            return f\"Item with SKU {sku} does not exist.\"\n",
        "\n",
        "    def generate_report(self):\n",
        "        print(\"Inventory Report:\")\n",
        "        for sku, item in self.inventory.items():\n",
        "            print(f\"SKU: {item.sku}, Name: {item.name}, Quantity: {item.quantity}, Price: ${item.price:.2f}\")\n",
        "\n",
        "# Example usage\n",
        "inventory_system = InventorySystem()\n",
        "\n",
        "# Adding items\n",
        "inventory_system.add_item('001', 'Apple', 100, 0.50)\n",
        "inventory_system.add_item('002', 'Banana', 150, 0.30)\n",
        "\n",
        "# Updating items\n",
        "inventory_system.update_item('001', 50)\n",
        "\n",
        "# Removing items\n",
        "inventory_system.remove_item('001', 20)\n",
        "\n",
        "# Checking stock\n",
        "print(inventory_system.check_stock('001'))\n",
        "print(inventory_system.check_stock('003'))\n",
        "\n",
        "# Generating report\n",
        "inventory_system.generate_report()"
      ]
    }
  ]
}