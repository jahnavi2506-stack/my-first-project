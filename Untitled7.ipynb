{
  "nbformat": 4,
  "nbformat_minor": 0,
  "metadata": {
    "colab": {
      "provenance": [],
      "authorship_tag": "ABX9TyP+gs6ROu4f9s3fCc55rrrV",
      "include_colab_link": true
    },
    "kernelspec": {
      "name": "python3",
      "display_name": "Python 3"
    },
    "language_info": {
      "name": "python"
    }
  },
  "cells": [
    {
      "cell_type": "markdown",
      "metadata": {
        "id": "view-in-github",
        "colab_type": "text"
      },
      "source": [
        "<a href=\"https://colab.research.google.com/github/jahnavi2506-stack/my-first-project/blob/main/Untitled7.ipynb\" target=\"_parent\"><img src=\"https://colab.research.google.com/assets/colab-badge.svg\" alt=\"Open In Colab\"/></a>"
      ]
    },
    {
      "cell_type": "code",
      "execution_count": null,
      "metadata": {
        "colab": {
          "base_uri": "https://localhost:8080/"
        },
        "id": "_ZT8U_8rQVBk",
        "outputId": "78573144-958e-4742-fa69-d95cf62c6dc9"
      },
      "outputs": [
        {
          "output_type": "stream",
          "name": "stdout",
          "text": [
            "30\n",
            "10\n",
            "2.0\n",
            "2\n",
            "0\n"
          ]
        }
      ],
      "source": [
        "a=20\n",
        "b=10\n",
        "print(a+b)\n",
        "print(a-b)\n",
        "print(a/b)\n",
        "print(a//b)\n",
        "print(a%b)"
      ]
    },
    {
      "cell_type": "code",
      "source": [
        "l=int(input(\"enter the value of l:\"))\n",
        "b=int(input(\"enter the value of b:\"))\n",
        "perimeter=2*(l+b)\n",
        "print(perimeter)"
      ],
      "metadata": {
        "colab": {
          "base_uri": "https://localhost:8080/"
        },
        "id": "J-98MP7WTS18",
        "outputId": "d1d79f4c-2ba4-4046-8876-8fb51bb2db16"
      },
      "execution_count": null,
      "outputs": [
        {
          "output_type": "stream",
          "name": "stdout",
          "text": [
            "enter the value of l:23\n",
            "enter the value of b:4\n",
            "54\n"
          ]
        }
      ]
    },
    {
      "cell_type": "code",
      "source": [
        "print(24.6/4)\n",
        "print(24.6/4.0)\n",
        "print(24.6//4)\n"
      ],
      "metadata": {
        "colab": {
          "base_uri": "https://localhost:8080/"
        },
        "id": "b7AvW0drU28Z",
        "outputId": "27bb95f8-0bd0-4257-c884-58b60715ba1c"
      },
      "execution_count": null,
      "outputs": [
        {
          "output_type": "stream",
          "name": "stdout",
          "text": [
            "6.15\n",
            "6.15\n",
            "6.0\n"
          ]
        }
      ]
    },
    {
      "cell_type": "code",
      "source": [
        "\n",
        "print(not -8)\n"
      ],
      "metadata": {
        "colab": {
          "base_uri": "https://localhost:8080/"
        },
        "id": "apJcexTOXRWz",
        "outputId": "6a1e9bd3-4303-4738-eb46-ff3ddf3155c8"
      },
      "execution_count": null,
      "outputs": [
        {
          "output_type": "stream",
          "name": "stdout",
          "text": [
            "False\n"
          ]
        }
      ]
    },
    {
      "cell_type": "code",
      "source": [
        "a=5\n",
        "a=~5#a=~a\n",
        "print(a)\n"
      ],
      "metadata": {
        "colab": {
          "base_uri": "https://localhost:8080/"
        },
        "id": "5roR6IK7hU_g",
        "outputId": "76b4d57f-0aac-4ae1-bd1b-886bb1278e59"
      },
      "execution_count": null,
      "outputs": [
        {
          "output_type": "stream",
          "name": "stdout",
          "text": [
            "-6\n"
          ]
        }
      ]
    },
    {
      "cell_type": "code",
      "source": [
        "a&=10\n",
        "print(a)\n",
        "a//=10\n",
        "print(a)"
      ],
      "metadata": {
        "colab": {
          "base_uri": "https://localhost:8080/"
        },
        "id": "S1puF8Bbiexd",
        "outputId": "4e0d487c-6561-4615-d7b5-c8cb57014323"
      },
      "execution_count": null,
      "outputs": [
        {
          "output_type": "stream",
          "name": "stdout",
          "text": [
            "10\n",
            "1\n"
          ]
        }
      ]
    },
    {
      "cell_type": "code",
      "source": [
        "i =int(input(\"enter i value:\"))\n",
        "while i<6:\n",
        "  print(\"cse\")\n",
        "  i += 2"
      ],
      "metadata": {
        "colab": {
          "base_uri": "https://localhost:8080/"
        },
        "id": "qXx0NBK9qrIj",
        "outputId": "da3d9482-f2e8-4eb7-fc79-85d724a870c4"
      },
      "execution_count": null,
      "outputs": [
        {
          "output_type": "stream",
          "name": "stdout",
          "text": [
            "enter i value:1\n",
            "cse\n",
            "cse\n",
            "cse\n"
          ]
        }
      ]
    },
    {
      "cell_type": "code",
      "source": [
        "for i in range(1,4):\n",
        "  print(\"Jahnavi\")"
      ],
      "metadata": {
        "colab": {
          "base_uri": "https://localhost:8080/"
        },
        "id": "398n8o70sQe3",
        "outputId": "4cbbf194-2e2f-4cb6-e5d5-3b10d6ad30b4"
      },
      "execution_count": null,
      "outputs": [
        {
          "output_type": "stream",
          "name": "stdout",
          "text": [
            "Jahnavi\n",
            "Jahnavi\n",
            "Jahnavi\n"
          ]
        }
      ]
    },
    {
      "cell_type": "code",
      "source": [
        "j=[\"red\",\"yellow\",\"blue\",\"green\",\"violet\"]\n",
        "print(j[1:-1])\n",
        "print(j[-1:-3])\n",
        "print(j[1:0])\n",
        "print(j[-3:0])\n",
        "print(j[0])\n",
        "print(j[-1:3])"
      ],
      "metadata": {
        "colab": {
          "base_uri": "https://localhost:8080/"
        },
        "id": "uPD9TelC-fdI",
        "outputId": "47dcca76-765d-4425-d299-3f3aa14d7e2c"
      },
      "execution_count": null,
      "outputs": [
        {
          "output_type": "stream",
          "name": "stdout",
          "text": [
            "['yellow', 'blue', 'green']\n",
            "[]\n",
            "[]\n",
            "[]\n",
            "red\n",
            "[]\n"
          ]
        }
      ]
    },
    {
      "cell_type": "code",
      "source": [
        "a62=[1,2,3]\n",
        "print(a62.append(4))\n",
        "b62=[5,6,7]\n",
        "print(a62.append(b62))\n",
        "print(a62)\n",
        "print(a62.insert(1,8))\n",
        "print(a62)\n",
        "print(a62.insert(4,12))\n",
        "print(a62)\n",
        "print(a62.remove(12))\n",
        "print(a62)\n",
        "del a62[1]\n",
        "print(a62)\n",
        "del a62[1:3]\n",
        "print(a62)\n",
        "A=['J','A','H','N','A',]\n",
        "print(A.append('V'))\n",
        "print(A.extend('I'))\n",
        "del A[1:3]\n",
        "print(A.clear())\n",
        "print(A)\n"
      ],
      "metadata": {
        "colab": {
          "base_uri": "https://localhost:8080/"
        },
        "id": "3vv30vPMB_Ll",
        "outputId": "67c936ab-1ad9-48f0-d2f4-edea1dffb7a3"
      },
      "execution_count": null,
      "outputs": [
        {
          "output_type": "stream",
          "name": "stdout",
          "text": [
            "None\n",
            "None\n",
            "[1, 2, 3, 4, [5, 6, 7]]\n",
            "None\n",
            "[1, 8, 2, 3, 4, [5, 6, 7]]\n",
            "None\n",
            "[1, 8, 2, 3, 12, 4, [5, 6, 7]]\n",
            "None\n",
            "[1, 8, 2, 3, 4, [5, 6, 7]]\n",
            "[1, 2, 3, 4, [5, 6, 7]]\n",
            "[1, 4, [5, 6, 7]]\n",
            "None\n",
            "None\n",
            "None\n",
            "[]\n"
          ]
        }
      ]
    },
    {
      "cell_type": "code",
      "source": [
        "A=['J','A','H','N','A',]\n",
        "A.insert(2,3)\n",
        "print(A)\n",
        "a62=[2,4,8,10]\n",
        "a62.insert(-2,14)\n",
        "print(a62)\n",
        "print(a62.pop())\n",
        "print(a62)\n"
      ],
      "metadata": {
        "colab": {
          "base_uri": "https://localhost:8080/"
        },
        "id": "ekluqlTFH7Fv",
        "outputId": "e0f7633e-59ac-499e-d25f-8416c993f550"
      },
      "execution_count": null,
      "outputs": [
        {
          "output_type": "stream",
          "name": "stdout",
          "text": [
            "['J', 'A', 3, 'H', 'N', 'A']\n",
            "[2, 4, 14, 8, 10]\n",
            "10\n",
            "[2, 4, 14, 8]\n"
          ]
        }
      ]
    },
    {
      "cell_type": "code",
      "source": [
        "string=[\"1234\"]\n",
        "string.insert(1,8)\n",
        "print(string)"
      ],
      "metadata": {
        "colab": {
          "base_uri": "https://localhost:8080/"
        },
        "id": "HInM586yLDX6",
        "outputId": "4365423e-0d75-46b8-b9c9-f9b783d0b9fe"
      },
      "execution_count": null,
      "outputs": [
        {
          "output_type": "stream",
          "name": "stdout",
          "text": [
            "['1234', 8]\n"
          ]
        }
      ]
    },
    {
      "cell_type": "code",
      "source": [
        "s=[12,13,14,15,16,17,18,19,20,21]\n",
        "del s[-1]\n",
        "print(s)\n",
        "del s[-2:-4]\n",
        "print(s)\n",
        "del s[-4:-1]\n",
        "print(s)\n",
        "del s[2:-2]\n",
        "print(s)\n",
        "del s[:]\n",
        "print(s)\n"
      ],
      "metadata": {
        "colab": {
          "base_uri": "https://localhost:8080/"
        },
        "id": "Id0qejqWNhm8",
        "outputId": "9ff37694-2ba5-4ecd-9270-d3f149e2851d"
      },
      "execution_count": null,
      "outputs": [
        {
          "output_type": "stream",
          "name": "stdout",
          "text": [
            "[12, 13, 14, 15, 16, 17, 18, 19, 20]\n",
            "[12, 13, 14, 15, 16, 17, 18, 19, 20]\n",
            "[12, 13, 14, 15, 16, 20]\n",
            "[12, 13, 16, 20]\n",
            "[]\n"
          ]
        }
      ]
    },
    {
      "cell_type": "code",
      "source": [
        "a62=['j','a','h','n','a','v','i']\n",
        "a62.index('h')"
      ],
      "metadata": {
        "colab": {
          "base_uri": "https://localhost:8080/"
        },
        "id": "ZsNEuKFUPQQP",
        "outputId": "0b19358f-448c-4a9b-eca7-0aed7c18a813"
      },
      "execution_count": null,
      "outputs": [
        {
          "output_type": "execute_result",
          "data": {
            "text/plain": [
              "2"
            ]
          },
          "metadata": {},
          "execution_count": 56
        }
      ]
    },
    {
      "cell_type": "code",
      "source": [
        "a=10\n",
        "print(type(a))\n",
        "b=type(a)\n",
        "print(b)\n",
        "type(10+4)\n"
      ],
      "metadata": {
        "colab": {
          "base_uri": "https://localhost:8080/"
        },
        "id": "vvDAQgZ1d9OZ",
        "outputId": "100451c1-933a-43f9-c09e-08d33fc7da05"
      },
      "execution_count": null,
      "outputs": [
        {
          "output_type": "stream",
          "name": "stdout",
          "text": [
            "<class 'int'>\n",
            "<class 'int'>\n"
          ]
        },
        {
          "output_type": "execute_result",
          "data": {
            "text/plain": [
              "int"
            ]
          },
          "metadata": {},
          "execution_count": 61
        }
      ]
    },
    {
      "cell_type": "code",
      "source": [
        "#invalid\n",
        "name='\"harika\"'\n",
        "print(name)\n",
        "name='hari''ka'\n",
        "print(name)\n",
        "name='hari''ka'\n",
        "print(name)"
      ],
      "metadata": {
        "colab": {
          "base_uri": "https://localhost:8080/",
          "height": 109
        },
        "id": "UWpfBayBf5CQ",
        "outputId": "85c984a1-0d9e-4e47-9e33-5cc7a2116886"
      },
      "execution_count": null,
      "outputs": [
        {
          "output_type": "error",
          "ename": "SyntaxError",
          "evalue": "invalid syntax (<ipython-input-72-903a1c2e22af>, line 1)",
          "traceback": [
            "\u001b[0;36m  File \u001b[0;32m\"<ipython-input-72-903a1c2e22af>\"\u001b[0;36m, line \u001b[0;32m1\u001b[0m\n\u001b[0;31m    name=\"\"harika\"\"\u001b[0m\n\u001b[0m           ^\u001b[0m\n\u001b[0;31mSyntaxError\u001b[0m\u001b[0;31m:\u001b[0m invalid syntax\n"
          ]
        }
      ]
    },
    {
      "cell_type": "code",
      "source": [
        "a62b=[True,False]\n",
        "a62b.sort()\n",
        "print(a62b)"
      ],
      "metadata": {
        "colab": {
          "base_uri": "https://localhost:8080/"
        },
        "id": "7qdI83XR9kFs",
        "outputId": "e4f43dd1-b52c-4e03-e0c1-a09939822de7"
      },
      "execution_count": 2,
      "outputs": [
        {
          "output_type": "stream",
          "name": "stdout",
          "text": [
            "[False, True]\n"
          ]
        }
      ]
    }
  ]
}