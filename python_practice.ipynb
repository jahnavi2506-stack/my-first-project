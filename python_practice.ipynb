{
  "nbformat": 4,
  "nbformat_minor": 0,
  "metadata": {
    "colab": {
      "provenance": [],
      "authorship_tag": "ABX9TyNB2oFPP/EiONlfg68dLQUF",
      "include_colab_link": true
    },
    "kernelspec": {
      "name": "python3",
      "display_name": "Python 3"
    },
    "language_info": {
      "name": "python"
    }
  },
  "cells": [
    {
      "cell_type": "markdown",
      "metadata": {
        "id": "view-in-github",
        "colab_type": "text"
      },
      "source": [
        "<a href=\"https://colab.research.google.com/github/jahnavi2506-stack/my-first-project/blob/main/python_practice.ipynb\" target=\"_parent\"><img src=\"https://colab.research.google.com/assets/colab-badge.svg\" alt=\"Open In Colab\"/></a>"
      ]
    },
    {
      "cell_type": "code",
      "execution_count": null,
      "metadata": {
        "colab": {
          "base_uri": "https://localhost:8080/"
        },
        "id": "rzp4L-7a8p_y",
        "outputId": "db7f657c-cedd-4ee8-a10d-a9f7b38abc65"
      },
      "outputs": [
        {
          "output_type": "stream",
          "name": "stdout",
          "text": [
            "ivanhaj\n"
          ]
        }
      ],
      "source": [
        "#reverse a string\n",
        "a=\"jahnavi\"\n",
        "print(a[::-1])"
      ]
    },
    {
      "cell_type": "code",
      "source": [
        "#prime or not\n",
        "num=int(input(\"Enter a number:\"))\n",
        "if num > 1:\n",
        "    for i in range(2,num):\n",
        "        if num % i == 0:\n",
        "            print('not prime')\n",
        "            break\n",
        "    else:\n",
        "      print('prime')\n",
        "else:\n",
        "    print('not prime')"
      ],
      "metadata": {
        "colab": {
          "base_uri": "https://localhost:8080/"
        },
        "id": "MXMai8Gz9flk",
        "outputId": "536763e2-6b75-4011-aa5b-d7e296396f63"
      },
      "execution_count": null,
      "outputs": [
        {
          "output_type": "stream",
          "name": "stdout",
          "text": [
            "Enter a number:-1\n",
            "not prime\n"
          ]
        }
      ]
    },
    {
      "cell_type": "code",
      "source": [
        "#palindrome or not\n",
        "y=input(\"Enter string:\")\n",
        "if y == y[::-1]:\n",
        "  print(\"palindrome\")\n",
        "else:\n",
        "  print(\"not palindrome\")"
      ],
      "metadata": {
        "colab": {
          "base_uri": "https://localhost:8080/"
        },
        "id": "Wq17cP2uC9Lq",
        "outputId": "4cb81283-894e-4d81-9181-defdc9a19b20"
      },
      "execution_count": null,
      "outputs": [
        {
          "output_type": "stream",
          "name": "stdout",
          "text": [
            "Enter string:jahnavi\n",
            "not palindrome\n"
          ]
        }
      ]
    },
    {
      "cell_type": "code",
      "source": [
        "#even numbers form the list\n",
        "list1=[1,2,3,4,5,10,15,22]\n",
        "for i in list1:\n",
        "  if i % 2 == 0:\n",
        "    print(i)\n",
        "\n",
        "\n",
        "\n"
      ],
      "metadata": {
        "colab": {
          "base_uri": "https://localhost:8080/"
        },
        "id": "MJN89frPFL1J",
        "outputId": "b9e52ac5-a0f7-46df-babc-232cf23df98a"
      },
      "execution_count": null,
      "outputs": [
        {
          "output_type": "stream",
          "name": "stdout",
          "text": [
            "2\n",
            "4\n",
            "10\n",
            "22\n"
          ]
        }
      ]
    },
    {
      "cell_type": "code",
      "source": [
        "#max and min\n",
        "tuple = (23,13,89,76)\n",
        "dict = {12,67,81,90}\n",
        "print(max(tuple))\n",
        "print(min(tuple))\n",
        "print(max(dict))\n",
        "print(min(dict))"
      ],
      "metadata": {
        "colab": {
          "base_uri": "https://localhost:8080/"
        },
        "id": "kH3x0-FSGRWN",
        "outputId": "4016290b-2434-4631-9a3a-5ece2b8236fd"
      },
      "execution_count": null,
      "outputs": [
        {
          "output_type": "stream",
          "name": "stdout",
          "text": [
            "89\n",
            "13\n",
            "90\n",
            "12\n"
          ]
        }
      ]
    },
    {
      "cell_type": "code",
      "source": [
        "#swapping of variables\n",
        "a = 5\n",
        "b = 7\n",
        "a,b = b,a\n",
        "print (a,b)\n",
        "print (b,a)\n",
        "#using temp\n",
        "c=input(\"Enter c value:\")\n",
        "d=input(\"Enter d value:\")\n",
        "temp = c\n",
        "c = d\n",
        "d = temp\n",
        "print(\"c = \" +c)\n",
        "print(\"d = \",d)"
      ],
      "metadata": {
        "colab": {
          "base_uri": "https://localhost:8080/"
        },
        "id": "_Iv3QVAiGzr3",
        "outputId": "8778d0df-93aa-47e5-bd2d-41ae11fe268c"
      },
      "execution_count": null,
      "outputs": [
        {
          "output_type": "stream",
          "name": "stdout",
          "text": [
            "7 5\n",
            "5 7\n",
            "Enter c value:58\n",
            "Enter d value:95\n",
            "c = 95\n",
            "d =  58\n"
          ]
        }
      ]
    },
    {
      "cell_type": "code",
      "source": [
        "#fibonacci series\n",
        "n=int(input(\"enter no.of terrms:\"))\n",
        "a = 0\n",
        "b = 1\n",
        "for i in range (n):\n",
        "  print(a,end='')\n",
        "  a , b = b, a+b"
      ],
      "metadata": {
        "colab": {
          "base_uri": "https://localhost:8080/"
        },
        "id": "vCNKFcJrHj3X",
        "outputId": "7b32a4b0-8fe5-488f-9884-6106b378a869"
      },
      "execution_count": null,
      "outputs": [
        {
          "output_type": "stream",
          "name": "stdout",
          "text": [
            "enter no.of terrms:5\n",
            "01123"
          ]
        }
      ]
    },
    {
      "cell_type": "code",
      "source": [
        "#sum of numbers\n",
        "list2 = [1,2,3,4,5]\n",
        "sum = 0\n",
        "for i in list2:\n",
        " sum  = sum + i\n",
        "print(sum)\n",
        "#list3 = [1,2,3,24,15]\n",
        "#total = sum(list3)\n",
        "#print(total)\n"
      ],
      "metadata": {
        "colab": {
          "base_uri": "https://localhost:8080/"
        },
        "id": "gAqpEZiNI9GF",
        "outputId": "1418bd6b-8595-426b-f660-a4cd8f428b8d"
      },
      "execution_count": null,
      "outputs": [
        {
          "output_type": "stream",
          "name": "stdout",
          "text": [
            "15\n"
          ]
        }
      ]
    },
    {
      "cell_type": "code",
      "source": [
        "#seperating even and odd in arrays-list:orderd and allows duplicates can be changed~mutable\n",
        "arr=[21,2,4,7,8,9,7]\n",
        "even=[num for num in arr if num % 2 == 0]\n",
        "print(\"Even:\",even)\n",
        "odd=[num for num in arr if num % 2 != 0]\n",
        "print(\"Odd:\",odd)\n",
        "#calculating average of array\n",
        "avg=sum(arr)/len(arr)\n",
        "print(\"Average:\",avg)\n",
        "#finding arrays\n",
        "print(\"Index:\" ,arr.index(21))\n",
        "print(\"Index:\",arr.index(9))\n"
      ],
      "metadata": {
        "colab": {
          "base_uri": "https://localhost:8080/"
        },
        "id": "81PcgTffKOId",
        "outputId": "6dcf77fe-d2d1-43e4-88f2-9335a0ea1a7e"
      },
      "execution_count": null,
      "outputs": [
        {
          "output_type": "stream",
          "name": "stdout",
          "text": [
            "Even: [2, 4, 8]\n",
            "Odd: [21, 7, 9, 7]\n",
            "Average: 8.285714285714286\n",
            "Index: 0\n",
            "Index: 5\n"
          ]
        }
      ]
    },
    {
      "cell_type": "code",
      "source": [
        "arr1 = [5,20,89,51,96]\n",
        "x = int(input(\"Enter value:\"))\n",
        "if x in arr1:\n",
        "  print(\"Index:\",arr1.index(x))\n",
        "else:\n",
        "  print(\"not found\")\n",
        "print(\"Reverse of an array:\",arr1[::-1])\n",
        "#merging 2 arrays\n",
        "arr2 = [13,45,89]\n",
        "merged = arr1 + arr2\n",
        "#merged = list(set(arr1+arr2))\n",
        "print(\"After merging:\",merged)\n",
        "#common element form both the arrays\n",
        "#common = [arr1] & [arr2]-doesnot work\n",
        "common = list(set(arr1) & set(arr2))\n",
        "print(\"Common element is:\",common)\n"
      ],
      "metadata": {
        "colab": {
          "base_uri": "https://localhost:8080/"
        },
        "id": "BMqes8Aqouxr",
        "outputId": "c9b4043e-9fee-4ba9-bb08-115d76100d31"
      },
      "execution_count": null,
      "outputs": [
        {
          "output_type": "stream",
          "name": "stdout",
          "text": [
            "Enter value:089\n",
            "Index: 2\n",
            "Reverse of an array: [96, 51, 89, 20, 5]\n",
            "After merging: [5, 20, 89, 51, 96, 13, 45, 89]\n",
            "Common element is: [89]\n"
          ]
        }
      ]
    },
    {
      "cell_type": "code",
      "source": [
        "#occurance of each element\n",
        "arr1 = [5,20,89,51,96]\n",
        "count = {}\n",
        "for i in arr1:\n",
        "  count[i] = count.get(i,0) + 1\n",
        "print(count)\n"
      ],
      "metadata": {
        "colab": {
          "base_uri": "https://localhost:8080/"
        },
        "id": "E-UKilFyXew3",
        "outputId": "b052d926-36b5-444e-9965-18195732cea4"
      },
      "execution_count": null,
      "outputs": [
        {
          "output_type": "stream",
          "name": "stdout",
          "text": [
            "{5: 1, 20: 1, 89: 1, 51: 1, 96: 1}\n"
          ]
        }
      ]
    },
    {
      "cell_type": "code",
      "source": [
        "#in form of tuples-orderd and allows duplicates but cannot be changed~immutable\n",
        "arr1=[21,2,4,7,8,9,7]\n",
        "even1_gen=(num for num in arr1 if num % 2 == 0)\n",
        "#print(\"Even:\",even1_gen)\n",
        "print(list(even1_gen))\n",
        "odd1_gen=(num for num in arr1 if num % 2 != 0)\n",
        "print(\"Odd:\",odd1_gen)\n",
        "print(list(odd1_gen))"
      ],
      "metadata": {
        "colab": {
          "base_uri": "https://localhost:8080/"
        },
        "id": "xK4szLNgNxEm",
        "outputId": "8e93f4a7-3daf-4d39-8e4b-90b355052032"
      },
      "execution_count": null,
      "outputs": [
        {
          "output_type": "stream",
          "name": "stdout",
          "text": [
            "[2, 4, 8]\n",
            "Odd: <generator object <genexpr> at 0x7eba4f97e5a0>\n",
            "[21, 7, 9, 7]\n"
          ]
        }
      ]
    },
    {
      "cell_type": "code",
      "source": [
        "#in form of sets-unordered and doesnot allow duplicataes\n",
        "arr2=[21,2,4,7,8,9,17]\n",
        "even2_set={num for num in arr2 if num % 2 == 0}\n",
        "print(\"Even:\",even2_set)\n",
        "odd2_set={num for num in arr2 if num % 2 != 0}\n",
        "print(\"Odd:\",odd2_set)"
      ],
      "metadata": {
        "colab": {
          "base_uri": "https://localhost:8080/"
        },
        "id": "Rg8x6PKfOUXj",
        "outputId": "9d71c39f-dd2d-4381-8f54-05a510f5f0c0"
      },
      "execution_count": null,
      "outputs": [
        {
          "output_type": "stream",
          "name": "stdout",
          "text": [
            "Even: {8, 2, 4}\n",
            "Odd: {9, 21, 17, 7}\n"
          ]
        }
      ]
    },
    {
      "cell_type": "code",
      "source": [
        "#print multiplication of a number\n",
        "r=int(input(\"Enter a number:\"))\n",
        "for i in range(1,11):\n",
        "  print(f\"{r} x {i} = {r*i}\")"
      ],
      "metadata": {
        "colab": {
          "base_uri": "https://localhost:8080/"
        },
        "id": "E5D_HMtCXpeS",
        "outputId": "474e35fc-ecba-4230-fdcf-f77b8a27ae12"
      },
      "execution_count": null,
      "outputs": [
        {
          "output_type": "stream",
          "name": "stdout",
          "text": [
            "Enter a number:5\n",
            "5 x 1 = 5\n",
            "5 x 2 = 10\n",
            "5 x 3 = 15\n",
            "5 x 4 = 20\n",
            "5 x 5 = 25\n",
            "5 x 6 = 30\n",
            "5 x 7 = 35\n",
            "5 x 8 = 40\n",
            "5 x 9 = 45\n",
            "5 x 10 = 50\n"
          ]
        }
      ]
    },
    {
      "cell_type": "code",
      "source": [
        "#removing duplicates from list\n",
        "lst = [23,33,64,43,33,64,62]\n",
        "unique=list(set(lst))\n",
        "print(unique)"
      ],
      "metadata": {
        "colab": {
          "base_uri": "https://localhost:8080/"
        },
        "id": "N8PtuoykZCKA",
        "outputId": "0a8af13c-89b1-4360-d93d-31bb3bfda8c2"
      },
      "execution_count": null,
      "outputs": [
        {
          "output_type": "stream",
          "name": "stdout",
          "text": [
            "[64, 33, 43, 23, 62]\n"
          ]
        }
      ]
    },
    {
      "cell_type": "code",
      "source": [
        "#removing duplicates from tuple\n",
        "tple = (41,79,80,76,54,41)\n",
        "unique = tuple(set(tple))\n",
        "print(unique)"
      ],
      "metadata": {
        "colab": {
          "base_uri": "https://localhost:8080/"
        },
        "id": "AOXu36n-ZpKy",
        "outputId": "b64868f1-9843-4842-8ef2-9b752146a091"
      },
      "execution_count": null,
      "outputs": [
        {
          "output_type": "stream",
          "name": "stdout",
          "text": [
            "(41, 76, 79, 80, 54)\n"
          ]
        }
      ]
    },
    {
      "cell_type": "code",
      "source": [
        "import math\n",
        "a=9\n",
        "b=27\n",
        "print(\"sqrt of a is:\",math.sqrt(a))\n",
        "print(\"sqrt of b is:\",math.sqrt(b))\n",
        "print(\"power is:\",math.pow(a,b))\n",
        "print(\"gcd of a,b is:\",math.gcd(a,b))\n",
        "#print(math.pi)\n",
        "#print(math.e)\n",
        "print(\"lcm of a,b is:\",math.lcm(a,b))\n",
        "\n"
      ],
      "metadata": {
        "colab": {
          "base_uri": "https://localhost:8080/"
        },
        "id": "HVmAVxNIaRD9",
        "outputId": "b0f96f72-ca72-461d-f856-d8766855256c"
      },
      "execution_count": null,
      "outputs": [
        {
          "output_type": "stream",
          "name": "stdout",
          "text": [
            "sqrt of a is: 3.0\n",
            "sqrt of b is: 5.196152422706632\n",
            "power is: 5.814973700304006e+25\n",
            "gcd of a,b is: 9\n",
            "lcm of a,b is: 27\n"
          ]
        }
      ]
    },
    {
      "cell_type": "code",
      "source": [
        "#obtainig elements\n",
        "lst = [12,56,24,89,73,79]\n",
        "#lst = list(set(lst))\n",
        "lst.sort()\n",
        "print(\"second highest element is:\",lst[-2])\n",
        "print(\"second smallest element is:\",lst[1])"
      ],
      "metadata": {
        "colab": {
          "base_uri": "https://localhost:8080/"
        },
        "id": "dqB3RytrbvkV",
        "outputId": "78e233ea-0d06-45a7-813d-4992f705be87"
      },
      "execution_count": null,
      "outputs": [
        {
          "output_type": "stream",
          "name": "stdout",
          "text": [
            "second highest element is: 79\n",
            "second smallest element is: 24\n"
          ]
        }
      ]
    },
    {
      "cell_type": "code",
      "source": [
        "#square of even numbers\n",
        "for i in range(1,11):\n",
        "  if i % 2 == 0:\n",
        "    print(i)\n",
        "    squares = (i*i)\n",
        "    print(f\"square of {i} is :{squares}\")"
      ],
      "metadata": {
        "colab": {
          "base_uri": "https://localhost:8080/"
        },
        "id": "_1eTYK_JlDxs",
        "outputId": "5ab530ca-ff24-4d1e-e584-bbe485839037"
      },
      "execution_count": null,
      "outputs": [
        {
          "output_type": "stream",
          "name": "stdout",
          "text": [
            "2\n",
            "square of 2 is :4\n",
            "4\n",
            "square of 4 is :16\n",
            "6\n",
            "square of 6 is :36\n",
            "8\n",
            "square of 8 is :64\n",
            "10\n",
            "square of 10 is :100\n"
          ]
        }
      ]
    },
    {
      "cell_type": "code",
      "source": [
        "print(\"hello\" + \" \" + input(\"What is your name:\"))"
      ],
      "metadata": {
        "colab": {
          "base_uri": "https://localhost:8080/"
        },
        "id": "gD5UgP10nECU",
        "outputId": "20bb7981-ca16-4f17-c038-244ac2bada85"
      },
      "execution_count": null,
      "outputs": [
        {
          "output_type": "stream",
          "name": "stdout",
          "text": [
            "What is your name:Jahnavi\n",
            "hello Jahnavi\n"
          ]
        }
      ]
    },
    {
      "cell_type": "code",
      "source": [
        "#input takes string values\n",
        "#variable name should start with alphabets not numbers[1_age-not valid,age_1-valid]\n",
        "var_1=0o125#means octal 8\n",
        "var_2=0x125#hexadecimal 16\n",
        "var_3=0b1010#binary 2\n",
        "print(\"jenny\\'s \\\"Lectures\\\"\")\n",
        "print(var_1)\n",
        "print(var_2)\n",
        "print(var_3)\n",
        "print(var_1+var_2)"
      ],
      "metadata": {
        "colab": {
          "base_uri": "https://localhost:8080/"
        },
        "id": "nRkxVRH9E4my",
        "outputId": "130a4a2e-8028-45a8-8b8a-0805d3a5c2f8"
      },
      "execution_count": null,
      "outputs": [
        {
          "output_type": "stream",
          "name": "stdout",
          "text": [
            "jenny's \"Lectures\"\n",
            "85\n",
            "293\n",
            "10\n",
            "378\n"
          ]
        }
      ]
    },
    {
      "cell_type": "code",
      "source": [
        "num = 456\n",
        "sum_digits = 0\n",
        "\n",
        "while num > 0:\n",
        "    digit = num % 10        # Get the last digit\n",
        "    sum_digits += digit     # Add it to the sum\n",
        "    num = num // 10         # Remove the last digit\n",
        "\n",
        "print(\"Sum of digits:\", sum_digits)\n"
      ],
      "metadata": {
        "id": "HuGoX7qdHa44",
        "colab": {
          "base_uri": "https://localhost:8080/"
        },
        "outputId": "a4da6cbc-e7a4-49e0-ac4e-551ba1c56974"
      },
      "execution_count": null,
      "outputs": [
        {
          "output_type": "stream",
          "name": "stdout",
          "text": [
            "Sum of digits: 15\n"
          ]
        }
      ]
    },
    {
      "cell_type": "code",
      "source": [
        "#Armstrong number\n",
        "num = 256\n",
        "original = num\n",
        "n = len(str(num))  # Number of digits{because int has no length we should use str}\n",
        "\n",
        "sum_digits = 0\n",
        "\n",
        "while num > 0:\n",
        "    digit = num % 10\n",
        "    sum_digits += digit ** n  # Raise digit to power of number of digits\n",
        "    num = num // 10\n",
        "\n",
        "if sum_digits == original:\n",
        "    print(original, \"is an Armstrong number\")\n",
        "else:\n",
        "    print(original, \"is not an Armstrong number\")\n"
      ],
      "metadata": {
        "id": "iD6FCLtdk5o-",
        "colab": {
          "base_uri": "https://localhost:8080/"
        },
        "outputId": "f4b296c9-0918-4bcc-a2b7-8762c14c0c23"
      },
      "execution_count": null,
      "outputs": [
        {
          "output_type": "stream",
          "name": "stdout",
          "text": [
            "256 is not an Armstrong number\n"
          ]
        }
      ]
    },
    {
      "cell_type": "code",
      "source": [
        "number=input(\"Enter no.of digits:\")\n",
        "first_digit=number[0]\n",
        "second_digit=number[1]\n",
        "print(first_digit + second_digit)#concat\n",
        "print(int(first_digit) +int(second_digit))\n",
        "\n"
      ],
      "metadata": {
        "colab": {
          "base_uri": "https://localhost:8080/"
        },
        "id": "wLnNXAn76Kry",
        "outputId": "53c5828d-9275-4732-91dd-a790c9a2137d"
      },
      "execution_count": null,
      "outputs": [
        {
          "output_type": "stream",
          "name": "stdout",
          "text": [
            "Enter no.of digits:12\n",
            "12\n",
            "3\n"
          ]
        }
      ]
    },
    {
      "cell_type": "code",
      "source": [
        "a,b = 4,3\n",
        "c = a+b\n",
        "a += 2\n",
        "c/= a\n",
        "print(c)"
      ],
      "metadata": {
        "colab": {
          "base_uri": "https://localhost:8080/"
        },
        "id": "KsQE8kPT-dn0",
        "outputId": "a97da73a-df90-4271-820f-e722909a4c4c"
      },
      "execution_count": null,
      "outputs": [
        {
          "output_type": "stream",
          "name": "stdout",
          "text": [
            "1.1666666666666667\n"
          ]
        }
      ]
    },
    {
      "cell_type": "code",
      "source": [
        "#operators\n",
        "i,j = 3,9\n",
        "print(i+j)\n",
        "print(i-j)\n",
        "print(i*j)\n",
        "print(i>>3)\n",
        "print(i%j)\n",
        "print(i**j)\n",
        "print(i<<j)\n",
        "print(i&j)\n",
        "print(i|j)\n",
        "print(i^j)\n",
        "print(~i)\n",
        "print(i/j)\n",
        "print(i//j)"
      ],
      "metadata": {
        "colab": {
          "base_uri": "https://localhost:8080/"
        },
        "id": "vryTr2CCOMWM",
        "outputId": "73a90f3e-a650-4c38-f2d6-77b165cf0dbc"
      },
      "execution_count": null,
      "outputs": [
        {
          "output_type": "stream",
          "name": "stdout",
          "text": [
            "12\n",
            "-6\n",
            "27\n",
            "0\n",
            "3\n",
            "19683\n",
            "1536\n",
            "1\n",
            "11\n",
            "10\n",
            "-4\n",
            "0.3333333333333333\n",
            "0\n"
          ]
        }
      ]
    },
    {
      "cell_type": "code",
      "source": [
        "#memory manager doesn't create new objects, it reallocates for same data\n",
        "a = 5\n",
        "b = '5'\n",
        "print(id(a))\n",
        "print(id(b))\n",
        "print(a is  b)\n",
        "c = 7\n",
        "d = 7.0\n",
        "print(id(c))\n",
        "print(id(d))\n",
        "print(c is not d )\n",
        "e = 5\n",
        "print(id(e))\n",
        "e = 6\n",
        "print(id(e))#id will be changed although new value is assigned to the same one"
      ],
      "metadata": {
        "colab": {
          "base_uri": "https://localhost:8080/"
        },
        "id": "wIwaGE01O_-R",
        "outputId": "31a7b6e6-67f4-4ecf-8057-aedc9b8628f0"
      },
      "execution_count": null,
      "outputs": [
        {
          "output_type": "stream",
          "name": "stdout",
          "text": [
            "10750984\n",
            "10794432\n",
            "False\n",
            "10751048\n",
            "140547422545744\n",
            "True\n",
            "10750984\n",
            "10751016\n"
          ]
        }
      ]
    },
    {
      "cell_type": "code",
      "source": [
        "#membership operator\n",
        "str = \"jahnavi\"\n",
        "print('avi' in str)\n",
        "print('J' in str)\n",
        "l1=[2,-67,0,89]\n",
        "print(0 not in l1)"
      ],
      "metadata": {
        "colab": {
          "base_uri": "https://localhost:8080/"
        },
        "id": "f3Ngg6D_U2eX",
        "outputId": "d2976006-780e-478b-b45c-8b51e8d3029a"
      },
      "execution_count": null,
      "outputs": [
        {
          "output_type": "stream",
          "name": "stdout",
          "text": [
            "True\n",
            "False\n",
            "False\n"
          ]
        }
      ]
    },
    {
      "cell_type": "code",
      "source": [
        "#calculating BMI\n",
        "wei = int(input(\"Enter weight in kg:\"))\n",
        "hei = float(input(\"Enter height in meters:\"))\n",
        "#BMI = wei/(hei*hei)\n",
        "bmi = int(wei)/float(hei)**2\n",
        "if bmi<18.5:\n",
        "  print(f\"your BMI is {BMI},you are underweight\")\n",
        "elif bmi<25:\n",
        "  print(f\"your BMI is {BMI},you have normal weight\")\n",
        "elif bmi<30:\n",
        "  print(f\"your BMI is {BMI},you are overweight\")\n",
        "elif bmi<35:\n",
        "  print(f\"your BMI is {BMI},you are obese\")\n",
        "else:\n",
        "  print(f\"your BMI is {BMI},you are severely obese\")\n"
      ],
      "metadata": {
        "colab": {
          "base_uri": "https://localhost:8080/"
        },
        "id": "XBuVaYbAVgiq",
        "outputId": "8bb404bd-aa41-4dff-b3d7-9fe74669e492"
      },
      "execution_count": null,
      "outputs": [
        {
          "output_type": "stream",
          "name": "stdout",
          "text": [
            "Enter weight in kg:50\n",
            "Enter height in meters:1.7\n",
            "your BMI is 18.749999999999996,you are underweight\n"
          ]
        }
      ]
    },
    {
      "cell_type": "code",
      "source": [
        "#round function\n",
        "print(round(21.6755,2))\n",
        "print(round(7,2))\n",
        "print(round(2.675))#if specific value is not mentioned the default value will be considered i.e., 0\n",
        "print(type(round(2.675)))\n",
        "print(round(6.5))\n",
        "print(round(7.5))#it would either return 7 or 8 but the nearest even integer is 8\n",
        "print(round(674,-1))#generally we write it as 10^(-no.of digits)i.e.,10^-(-1) closet multiple of 10\n",
        "print(round(674,2))\n",
        "print(round(674,0))\n",
        "print(round(874,-2))#last 2 digits would be 00 and beside no of 8 is 7>5 so +1 otherwise -1\n",
        "print(round(-8/3))\n",
        "print(round(-8/3,2))"
      ],
      "metadata": {
        "colab": {
          "base_uri": "https://localhost:8080/"
        },
        "id": "oHHmgV7KXXR-",
        "outputId": "b656afc0-c924-4940-90ce-ee45508498d2"
      },
      "execution_count": null,
      "outputs": [
        {
          "output_type": "stream",
          "name": "stdout",
          "text": [
            "21.68\n",
            "7\n",
            "3\n",
            "<class 'int'>\n",
            "6\n",
            "8\n",
            "670\n",
            "674\n",
            "674\n",
            "900\n",
            "-3\n",
            "-2.67\n"
          ]
        }
      ]
    },
    {
      "cell_type": "code",
      "source": [
        "current_age = int(input(\"Enter current age:\"))\n",
        "target_age = 90\n",
        "years_left = target_age-current_age\n",
        "moths_left = years_left*12\n",
        "weeks_left = years_left*52\n",
        "days_left = years_left*365\n",
        "print(f\"You have {days_left} days,{weeks_left} weeks,{moths_left} months,{years_left} years left\")"
      ],
      "metadata": {
        "colab": {
          "base_uri": "https://localhost:8080/"
        },
        "id": "5EZPUsDKhVrT",
        "outputId": "29041327-063b-4e03-86cb-407e7f766c67"
      },
      "execution_count": null,
      "outputs": [
        {
          "output_type": "stream",
          "name": "stdout",
          "text": [
            "Enter current age:20\n",
            "You have 25550 days,3640 weeks,840 months,70 years left\n"
          ]
        }
      ]
    },
    {
      "cell_type": "code",
      "source": [
        "#leap year or not\n",
        "year = int(input(\"Enter year you wanted to check:\"))\n",
        "if year % 4 == 0:\n",
        "  if year % 100 == 0:\n",
        "    if year % 400 == 0:\n",
        "      print(\"Leap year\")\n",
        "    else:\n",
        "      print(\"not a Leap year\")\n",
        "  else:\n",
        "    print(\"Leap year\")\n",
        "else:\n",
        "  print(\"not a Leap year\")"
      ],
      "metadata": {
        "colab": {
          "base_uri": "https://localhost:8080/"
        },
        "id": "66VoMNfNNK-P",
        "outputId": "804730bf-d213-4fe0-d5a1-630dc97fe6a9"
      },
      "execution_count": null,
      "outputs": [
        {
          "output_type": "stream",
          "name": "stdout",
          "text": [
            "Enter year you wanted to check:2025\n",
            "not a Leap year\n"
          ]
        }
      ]
    },
    {
      "cell_type": "code",
      "source": [
        "#pizza ordering program\n",
        "print(\"Welcome to python pizza deliveries!\")\n",
        "size = input(\"What size pizza do you want? S,M,L \"+\" \")\n",
        "add_pepperoni = input(\"Do you want pepperoni? Y or N \"+\" \")\n",
        "extra_cheese = input(\"Do you want extra cheese? Y or N \"+\" \")\n",
        "bill = 0\n",
        "if size == 'S' or size == 's':\n",
        "  bill += 100\n",
        "  print(\"Pizza size is small with cost 100\")\n",
        "elif size == 'M'or size == 'm':\n",
        "  print(\"Pizza size is medium with cost 200\")\n",
        "  bill += 200\n",
        "else:\n",
        "  print(\"Pizza size is large with cost 300\")\n",
        "  bill +=300\n",
        "if add_pepperoni == 'Y' or add_pepperoni == 'y':\n",
        "  if size == 'S' or size == 's':\n",
        "    bill+=20\n",
        "  else:\n",
        "    bill+=30\n",
        "if extra_cheese == 'Y' or extra_cheese == 'y':\n",
        "  if size =='S'or size =='s':\n",
        "    bill+=10\n",
        "  else:\n",
        "    bill+=15\n",
        "print(f\"Your final bill is: {bill}\")\n"
      ],
      "metadata": {
        "colab": {
          "base_uri": "https://localhost:8080/"
        },
        "id": "1-JmuE6FkTrq",
        "outputId": "b2b27370-f633-4e81-9672-3a086a98e986"
      },
      "execution_count": null,
      "outputs": [
        {
          "output_type": "stream",
          "name": "stdout",
          "text": [
            "Welcome to python pizza deliveries!\n",
            "What size pizza do you want? S,M,L  m\n",
            "Do you want pepperoni? Y or N  y\n",
            "Do you want extra cheese? Y or N  y\n",
            "Pizza size is medium with cost 200\n",
            "Your final bill is 245\n"
          ]
        }
      ]
    },
    {
      "cell_type": "code",
      "source": [
        "#love calculator\n",
        "print(\"Welcome to the Love Calculator!\")\n",
        "name1 = input(\"What is your name? \\n\")\n",
        "name2 = input(\"What is their name? \\n\")\n",
        "name = name1 + name2\n",
        "name = name.lower()\n",
        "t = name.count('t')\n",
        "r = name.count('r')\n",
        "u = name.count('u')\n",
        "e = name.count('e')\n",
        "true = t+r+u+e\n",
        "\n",
        "l = name.count('l')\n",
        "o = name.count('o')\n",
        "v = name.count('v')\n",
        "e = name.count('e')\n",
        "love = l+o+v+e\n",
        "score = int(str(true)+str(love))\n",
        "if score < 10 or score > 90:\n",
        "  print(f\"Your score is {score}, you go together like coke and mentos.\")\n",
        "elif score >= 40 and score <= 50:\n",
        "  print(f\"Your score is {score}, you are alright together.\")\n",
        "else:\n",
        "  print(f\"Your score is {score}.\")\n"
      ],
      "metadata": {
        "colab": {
          "base_uri": "https://localhost:8080/"
        },
        "id": "uWob2-DdpkJt",
        "outputId": "96d1a2c8-2b6b-4130-8df5-a4cff0db4bdc"
      },
      "execution_count": null,
      "outputs": [
        {
          "output_type": "stream",
          "name": "stdout",
          "text": [
            "Welcome to the Love Calculator!\n",
            "What is your name? \n",
            "prasad\n",
            "What is their name? \n",
            "sirisha\n",
            "Your score is 20.\n"
          ]
        }
      ]
    },
    {
      "cell_type": "code",
      "source": [
        "mix_list = [1,\"jahnavi\",-76,True,100.18]\n",
        "print(mix_list[1:3])\n",
        "print(mix_list[0:4:2])#skips 2 elements in between\n",
        "mix_list.insert(2,56)\n",
        "mix_list.append(78)\n",
        "mix_list.extend([1,2,3])\n",
        "mix_list.remove(1)\n",
        "mix_list.pop(3)#the elements in list before changes will be popped out as per index\n",
        "print(mix_list)"
      ],
      "metadata": {
        "colab": {
          "base_uri": "https://localhost:8080/"
        },
        "id": "hEaxJ5p_sE-t",
        "outputId": "c8d7e5d8-0430-446d-f45f-1c0fd2f56c5d"
      },
      "execution_count": null,
      "outputs": [
        {
          "output_type": "stream",
          "name": "stdout",
          "text": [
            "['jahnavi', -76]\n",
            "[1, -76]\n",
            "['jahnavi', 56, -76, 100.18, 78, 1, 2, 3]\n"
          ]
        }
      ]
    },
    {
      "cell_type": "code",
      "source": [
        "import random\n",
        "side = random.randint(0,1)\n",
        "if side == 1:\n",
        "  print(\"Heads\")\n",
        "else:\n",
        "  print(\"Tails\")"
      ],
      "metadata": {
        "colab": {
          "base_uri": "https://localhost:8080/"
        },
        "id": "hQD69xXvYiwG",
        "outputId": "312258ea-56b6-4690-ff2e-492bb2050468"
      },
      "execution_count": null,
      "outputs": [
        {
          "output_type": "stream",
          "name": "stdout",
          "text": [
            "Heads\n"
          ]
        }
      ]
    }
  ]
}