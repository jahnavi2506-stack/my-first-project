{
  "nbformat": 4,
  "nbformat_minor": 0,
  "metadata": {
    "colab": {
      "provenance": [],
      "authorship_tag": "ABX9TyNhji7+sjOoDorxIzDnqiha",
      "include_colab_link": true
    },
    "kernelspec": {
      "name": "python3",
      "display_name": "Python 3"
    },
    "language_info": {
      "name": "python"
    }
  },
  "cells": [
    {
      "cell_type": "markdown",
      "metadata": {
        "id": "view-in-github",
        "colab_type": "text"
      },
      "source": [
        "<a href=\"https://colab.research.google.com/github/jahnavi2506-stack/my-first-project/blob/main/dict.ipynb\" target=\"_parent\"><img src=\"https://colab.research.google.com/assets/colab-badge.svg\" alt=\"Open In Colab\"/></a>"
      ]
    },
    {
      "cell_type": "code",
      "execution_count": null,
      "metadata": {
        "colab": {
          "base_uri": "https://localhost:8080/"
        },
        "id": "Bi2ELpc6Vnt2",
        "outputId": "06323a80-3310-4ec7-f5da-c153c15af1cd"
      },
      "outputs": [
        {
          "output_type": "stream",
          "name": "stdout",
          "text": [
            "the empty dictionary is:\n",
            " {}\n"
          ]
        }
      ],
      "source": [
        "empty_dict={}\n",
        "print(\"the empty dictionary is:\\n\",empty_dict)"
      ]
    },
    {
      "cell_type": "code",
      "source": [
        "dict3={10:'a',2:'4',0:'3',8:'h'}\n",
        "print(dict[0])\n",
        "print(dict[8])"
      ],
      "metadata": {
        "colab": {
          "base_uri": "https://localhost:8080/"
        },
        "id": "q4Ck7Z2dfspB",
        "outputId": "9f52ebca-8a64-41c7-d833-6bd53605c259"
      },
      "execution_count": null,
      "outputs": [
        {
          "output_type": "stream",
          "name": "stdout",
          "text": [
            "dict[0]\n",
            "dict[8]\n"
          ]
        }
      ]
    },
    {
      "cell_type": "code",
      "source": [
        "dict4={1:'books',2:'pens',3:'bags'}\n",
        "print(dict4.get(4))\n",
        "print(dict4)"
      ],
      "metadata": {
        "colab": {
          "base_uri": "https://localhost:8080/"
        },
        "id": "pixUaCxLhNYv",
        "outputId": "62244daf-7195-42e6-9c72-e32fbfba778a"
      },
      "execution_count": null,
      "outputs": [
        {
          "output_type": "stream",
          "name": "stdout",
          "text": [
            "None\n",
            "{1: 'books', 2: 'pens', 3: 'bags'}\n"
          ]
        }
      ]
    }
  ]
}