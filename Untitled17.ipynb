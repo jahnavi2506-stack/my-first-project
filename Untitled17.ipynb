{
  "nbformat": 4,
  "nbformat_minor": 0,
  "metadata": {
    "colab": {
      "provenance": [],
      "authorship_tag": "ABX9TyN8CVBPa9PSoRCeLioZ5u9Q",
      "include_colab_link": true
    },
    "kernelspec": {
      "name": "python3",
      "display_name": "Python 3"
    },
    "language_info": {
      "name": "python"
    }
  },
  "cells": [
    {
      "cell_type": "markdown",
      "metadata": {
        "id": "view-in-github",
        "colab_type": "text"
      },
      "source": [
        "<a href=\"https://colab.research.google.com/github/jahnavi2506-stack/my-first-project/blob/main/Untitled17.ipynb\" target=\"_parent\"><img src=\"https://colab.research.google.com/assets/colab-badge.svg\" alt=\"Open In Colab\"/></a>"
      ]
    },
    {
      "cell_type": "code",
      "execution_count": null,
      "metadata": {
        "colab": {
          "base_uri": "https://localhost:8080/"
        },
        "id": "bmTv7t04kQsO",
        "outputId": "469e53e7-5da3-4cad-a64a-8052868dae8f"
      },
      "outputs": [
        {
          "output_type": "stream",
          "name": "stdout",
          "text": [
            "Code: 1\n",
            "Name: redmi\n",
            "Cost: Twenty five thousand\n",
            "Code: 2\n",
            "Name: samsung\n",
            "Cost: Sixty three thousand\n",
            "Code: 3\n",
            "Name: vivo\n",
            "Cost: Thirty three thousand\n",
            "Code: 4\n",
            "Name: iphone\n",
            "Cost: One lakh thirty thousand\n",
            "Code: 5\n",
            "Name: google pixel\n",
            "Cost: Fourty thousand\n",
            "Code: 6\n",
            "Name: oppo\n",
            "Cost: Fifty thousand\n",
            "Code: 7\n",
            "Name: realme nazro\n",
            "Cost: Thirteen thousand\n",
            "Code: 8\n",
            "Name: OnePlus\n",
            "Cost: Fourty six thousand\n",
            "Code: 9\n",
            "Name: Motorola\n",
            "Cost: Twenty eight thousand\n",
            "Code: 10\n",
            "Name: Poco\n",
            "Cost: Nine thousand nine hundred and ninty nine\n"
          ]
        }
      ],
      "source": [
        "#This mobile mart is started recently and the manager wanted to know the types of mobiles present in it.\n",
        "class Mobilemart:\n",
        "  _code=None\n",
        "  __name=None\n",
        "  __cost=None\n",
        "  def __init__(self,code,name,cost):\n",
        "    self._code=code\n",
        "    self.__name=name\n",
        "    self.__cost=cost\n",
        "  def __display(self):\n",
        "    print(\"Code:\",self._code)\n",
        "    print(\"Name:\",self.__name)\n",
        "    print(\"Cost:\",self.__cost)\n",
        "  def accessprivatefunc(self):\n",
        "    self.__display()\n",
        "obj1=Mobilemart(1,\"redmi\",\"Twenty five thousand\")\n",
        "obj2=Mobilemart(2,\"samsung\",\"Sixty three thousand\")\n",
        "obj3=Mobilemart(3,\"vivo\",\"Thirty three thousand\")\n",
        "obj4=Mobilemart(4,\"iphone\",\"One lakh thirty thousand\")\n",
        "obj5=Mobilemart(5,\"google pixel\",\"Fourty thousand\")\n",
        "obj6=Mobilemart(6,\"oppo\",\"Fifty thousand\")\n",
        "obj7=Mobilemart(7,\"realme nazro\",\"Thirteen thousand\")\n",
        "obj8=Mobilemart(8,\"OnePlus\",\"Fourty six thousand\")\n",
        "obj9=Mobilemart(9,\"Motorola\",\"Twenty eight thousand\")\n",
        "obj10=Mobilemart(10,\"Poco\",\"Nine thousand nine hundred and ninty nine\")\n",
        "\n",
        "obj1.accessprivatefunc()\n",
        "obj2.accessprivatefunc()\n",
        "obj3.accessprivatefunc()\n",
        "obj4.accessprivatefunc()\n",
        "obj5.accessprivatefunc()\n",
        "obj6.accessprivatefunc()\n",
        "obj7.accessprivatefunc()\n",
        "obj8.accessprivatefunc()\n",
        "obj9.accessprivatefunc()\n",
        "obj10.accessprivatefunc()"
      ]
    },
    {
      "cell_type": "code",
      "source": [
        "def ow():\n",
        "  foods=[]\n",
        "  prices=[]\n",
        "  total=0\n",
        "  while True:\n",
        "    food=input(\"Enter type of food to buy:\")\n",
        "    if food==\"q\":\n",
        "      break\n",
        "    else:\n",
        "      price=int(input(f\"enter the price:\"))\n",
        "      foods.append(food)\n",
        "      prices.append(price)\n",
        "  for food in foods:\n",
        "   print(food,end=\"\")\n",
        "  for price in prices:\n",
        "   total+=price\n",
        "  print()\n",
        "  print(\"your total is:\",total)\n",
        "ow()\n",
        "\n",
        "\n"
      ],
      "metadata": {
        "id": "mqvIBgDCuEnZ",
        "colab": {
          "base_uri": "https://localhost:8080/"
        },
        "outputId": "d7424e30-69ec-4f41-915a-fe443dc77f35"
      },
      "execution_count": 1,
      "outputs": [
        {
          "output_type": "stream",
          "name": "stdout",
          "text": [
            "Enter type of food to buy:pizza\n",
            "enter the price:189\n",
            "Enter type of food to buy:fast food\n",
            "enter the price:120\n",
            "Enter type of food to buy:q\n",
            "pizzafast food\n",
            "your total is: 309\n"
          ]
        }
      ]
    }
  ]
}