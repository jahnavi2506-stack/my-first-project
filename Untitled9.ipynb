{
  "nbformat": 4,
  "nbformat_minor": 0,
  "metadata": {
    "colab": {
      "provenance": [],
      "authorship_tag": "ABX9TyPDVBUk8s096MjBORhugq0o",
      "include_colab_link": true
    },
    "kernelspec": {
      "name": "python3",
      "display_name": "Python 3"
    },
    "language_info": {
      "name": "python"
    }
  },
  "cells": [
    {
      "cell_type": "markdown",
      "metadata": {
        "id": "view-in-github",
        "colab_type": "text"
      },
      "source": [
        "<a href=\"https://colab.research.google.com/github/jahnavi2506-stack/my-first-project/blob/main/Untitled9.ipynb\" target=\"_parent\"><img src=\"https://colab.research.google.com/assets/colab-badge.svg\" alt=\"Open In Colab\"/></a>"
      ]
    },
    {
      "cell_type": "code",
      "execution_count": null,
      "metadata": {
        "colab": {
          "base_uri": "https://localhost:8080/"
        },
        "id": "_AfjtUFUVWwa",
        "outputId": "cd1a8b2f-1810-426f-ad6b-973f304de61f"
      },
      "outputs": [
        {
          "output_type": "stream",
          "name": "stdout",
          "text": [
            "this is parent vehicle class\n",
            "this is child class of vehicle\n",
            "this is child class of car\n"
          ]
        }
      ],
      "source": [
        "class Vehicle:\n",
        "  def v(self):\n",
        "    print(\"this is parent vehicle class\")\n",
        "class car(Vehicle):\n",
        "  def c(self):\n",
        "    print(\"this is child class of vehicle\")\n",
        "class Truck(car):\n",
        "  def t(self):\n",
        "    print(\"this is child class of car\")\n",
        "obj=Truck()\n",
        "obj.v()\n",
        "obj.c()\n",
        "obj.t()"
      ]
    },
    {
      "cell_type": "code",
      "source": [
        "class vehicle:\n",
        "  def v(self):\n",
        "    print(\"this is parent class\")\n",
        "class car(vehicle):\n",
        "  def c(self):\n",
        "    print(\"this is first child class\")\n",
        "class bike(vehicle):\n",
        "  def b(self):\n",
        "    print(\"this is second child class\")\n",
        "obj=car()\n",
        "obj.v()\n",
        "obj.c()\n",
        "ob=bike()\n",
        "ob.v()\n",
        "ob.b()"
      ],
      "metadata": {
        "colab": {
          "base_uri": "https://localhost:8080/"
        },
        "id": "SetSSJHkX_1j",
        "outputId": "b76b0f01-67a3-4cfc-bf0f-08f371c2411d"
      },
      "execution_count": null,
      "outputs": [
        {
          "output_type": "stream",
          "name": "stdout",
          "text": [
            "this is parent class\n",
            "this is first child class\n",
            "this is parent class\n",
            "this is second child class\n"
          ]
        }
      ]
    },
    {
      "cell_type": "code",
      "source": [
        "class H:\n",
        "  def a(self):\n",
        "    print(\"it is parent class\")\n",
        "class A(H):\n",
        "  def b(self):\n",
        "    print(\"it is child class\")\n",
        "class R(A):\n",
        "  def c(self):\n",
        "    print(\"it is an second child class\")\n",
        "class I(R,H):\n",
        "  def d(self):\n",
        "    print(\"it is child of 2 parent class\")\n",
        "ob1=I()\n",
        "ob1.d()\n",
        "ob1.b()\n",
        "ob1.a()\n",
        "ob1.c()"
      ],
      "metadata": {
        "colab": {
          "base_uri": "https://localhost:8080/"
        },
        "id": "bz5eGb6jZQRJ",
        "outputId": "9d94296f-31e3-4c91-d990-cf8d5ca569b5"
      },
      "execution_count": null,
      "outputs": [
        {
          "output_type": "stream",
          "name": "stdout",
          "text": [
            "it is child of 2 parent class\n",
            "it is child class\n",
            "it is parent class\n",
            "it is an second child class\n"
          ]
        }
      ]
    }
  ]
}