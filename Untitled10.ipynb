{
  "nbformat": 4,
  "nbformat_minor": 0,
  "metadata": {
    "colab": {
      "provenance": [],
      "authorship_tag": "ABX9TyPI8uG2CnzXbWSfdzlh+tM7",
      "include_colab_link": true
    },
    "kernelspec": {
      "name": "python3",
      "display_name": "Python 3"
    },
    "language_info": {
      "name": "python"
    }
  },
  "cells": [
    {
      "cell_type": "markdown",
      "metadata": {
        "id": "view-in-github",
        "colab_type": "text"
      },
      "source": [
        "<a href=\"https://colab.research.google.com/github/jahnavi2506-stack/my-first-project/blob/main/Untitled10.ipynb\" target=\"_parent\"><img src=\"https://colab.research.google.com/assets/colab-badge.svg\" alt=\"Open In Colab\"/></a>"
      ]
    },
    {
      "cell_type": "code",
      "execution_count": null,
      "metadata": {
        "colab": {
          "base_uri": "https://localhost:8080/"
        },
        "id": "NKR91zeBiBiP",
        "outputId": "29bef3c3-557f-4da0-de3a-01f9c0b3f859"
      },
      "outputs": [
        {
          "output_type": "stream",
          "name": "stdout",
          "text": [
            "enter principle amount:12000\n",
            "enter time period in years:5\n",
            "enter rate of intrest:10\n",
            "compound amount: 19326.120000000006\n",
            "7326.120000000006\n"
          ]
        }
      ],
      "source": [
        "#import math\n",
        "p=float(input(\"enter principle amount:\"))\n",
        "t=float(input(\"enter time period in years:\"))\n",
        "r=float(input(\"enter rate of intrest:\"))\n",
        "amt=p*(1+r/100)**t #p*(math.pow((1+r/100)),t)\n",
        "print(\"compound amount:\",amt)\n",
        "ci=amt-p\n",
        "print(ci)\n"
      ]
    },
    {
      "cell_type": "code",
      "source": [
        "x1=int(input(\"enter x1:\"))\n",
        "x2=int(input(\"enter x2:\"))\n",
        "y1=int(input(\"enter y1:\"))\n",
        "y2=int(input(\"enter y2:\"))\n",
        "distance=(((x2-x1)**2)+((y2-y1)**2)**0.5)\n",
        "print(distance)\n",
        "\n"
      ],
      "metadata": {
        "colab": {
          "base_uri": "https://localhost:8080/"
        },
        "id": "hVB3oTw4kE-z",
        "outputId": "44c08737-0869-4b4c-ca7c-a4a2f1edc7d9"
      },
      "execution_count": null,
      "outputs": [
        {
          "output_type": "stream",
          "name": "stdout",
          "text": [
            "enter x1:2\n",
            "enter x2:6\n",
            "enter y1:9\n",
            "enter y2:3\n",
            "22.0\n"
          ]
        }
      ]
    },
    {
      "cell_type": "code",
      "source": [
        "name,age=\"jahnavi\",18\n",
        "address=\"Hyderabad,Telengana,India\"\n",
        "email=\"jahnavi.250605@gmail.com\"\n",
        "phone_number=7207611189\n",
        "print(\"name:{}\\nage:{}\\naddress:{}\\nemail:{}\\nphone_number:{}\\n\".format(age,name,address,phone_number,email))"
      ],
      "metadata": {
        "colab": {
          "base_uri": "https://localhost:8080/"
        },
        "id": "GsToHzLulQhZ",
        "outputId": "7eb585f5-2c1a-4be1-ab35-da17a0032c06"
      },
      "execution_count": null,
      "outputs": [
        {
          "output_type": "stream",
          "name": "stdout",
          "text": [
            "name:18\n",
            "age:jahnavi\n",
            "address:Hyderabad,Telengana,India\n",
            "email:7207611189\n",
            "phone_number:jahnavi.250605@gmail.com\n",
            "\n"
          ]
        }
      ]
    },
    {
      "cell_type": "code",
      "source": [
        "A62=int(input(\"enter the value of A62:\"))\n",
        "for i in range(1,6):\n",
        "  for j in range(i):\n",
        "    print(A62,end=\"\")\n",
        "  A62=A62-1\n",
        "  print(\" \")\n"
      ],
      "metadata": {
        "colab": {
          "base_uri": "https://localhost:8080/"
        },
        "id": "E1YSS6HeoH4C",
        "outputId": "e15cf26b-170d-437d-dce6-1afa1e96e92a"
      },
      "execution_count": null,
      "outputs": [
        {
          "output_type": "stream",
          "name": "stdout",
          "text": [
            "enter the value of A62:3\n",
            "3 \n",
            "22 \n",
            "111 \n",
            "0000 \n",
            "-1-1-1-1-1 \n"
          ]
        }
      ]
    },
    {
      "cell_type": "code",
      "source": [
        "A62=input(\"enter the character:\")\n",
        "if A62.isdigit():\n",
        "  print(\"DIGIT\")\n",
        "elif A62.isupper():\n",
        "  print(\"upper case character\")\n",
        "elif A62.islower():\n",
        "  print(\"lower case character\")\n",
        "else:\n",
        "  print(\"special character\")\n"
      ],
      "metadata": {
        "colab": {
          "base_uri": "https://localhost:8080/"
        },
        "id": "wQNDNes3pDzw",
        "outputId": "855d55dd-e754-4195-d534-79e5062dec4f"
      },
      "execution_count": null,
      "outputs": [
        {
          "output_type": "stream",
          "name": "stdout",
          "text": [
            "enter the character:@\n",
            "special character\n"
          ]
        }
      ]
    },
    {
      "cell_type": "code",
      "source": [
        "B62=int(input(\"enter the no.of elements:\"))\n",
        "a=0\n",
        "b=1\n",
        "print(a,b,end=\" \")\n",
        "i=2\n",
        "while(i<B62):\n",
        "  sum=a+b\n",
        "  print(sum,end=\" \")\n",
        "  a=b\n",
        "  b=sum\n",
        "  i=i+1"
      ],
      "metadata": {
        "colab": {
          "base_uri": "https://localhost:8080/"
        },
        "id": "I2SVQeIAp5V7",
        "outputId": "c20133f6-e605-4943-edad-16e435f53d58"
      },
      "execution_count": null,
      "outputs": [
        {
          "output_type": "stream",
          "name": "stdout",
          "text": [
            "enter the no.of elements:9\n",
            "0 1 1 2 3 5 8 13 21 "
          ]
        }
      ]
    },
    {
      "cell_type": "code",
      "source": [
        "E8=1\n",
        "E81=5\n",
        "print(\"prime numbers between E8 and E81 are:\")\n",
        "for num in range(E8,E81+1):\n",
        "  if num>1:\n",
        "    for i in range(2,num):\n",
        "      if(num%i)==0:\n",
        "        break\n",
        "  else:\n",
        "    print(num)"
      ],
      "metadata": {
        "colab": {
          "base_uri": "https://localhost:8080/"
        },
        "id": "uJ784bGvq4g3",
        "outputId": "75f06f56-f760-44ab-e297-933eda6ad8c7"
      },
      "execution_count": null,
      "outputs": [
        {
          "output_type": "stream",
          "name": "stdout",
          "text": [
            "prime numbers between E8 and E81 are:\n",
            "1\n"
          ]
        }
      ]
    },
    {
      "cell_type": "code",
      "source": [
        "def gcd(e8,e81):\n",
        "  while e8!=e81:\n",
        "    if e8>e81:\n",
        "      e8-=e81\n",
        "    else:\n",
        "      e81-=e8\n",
        "  return e8\n",
        "print(\"gcd is\",gcd(60,30))"
      ],
      "metadata": {
        "colab": {
          "base_uri": "https://localhost:8080/"
        },
        "id": "hX8EByF7uBG9",
        "outputId": "8d107490-1d5e-4b75-87cf-5599809ec34c"
      },
      "execution_count": null,
      "outputs": [
        {
          "output_type": "stream",
          "name": "stdout",
          "text": [
            "gcd is 30\n"
          ]
        }
      ]
    },
    {
      "cell_type": "code",
      "source": [
        "import numpy as cse\n",
        "j62=[1,2,3,4,5,6]\n",
        "print(\"list to array:\")\n",
        "print(cse.asarray(j62))\n",
        "s62=([8,4,6],[1,2,3])\n",
        "print(\"tuple to array:\")\n",
        "print(cse.array(s62))\n"
      ],
      "metadata": {
        "colab": {
          "base_uri": "https://localhost:8080/"
        },
        "id": "ryNMF87-u8FP",
        "outputId": "0db5972e-879a-4f18-eac0-ecb4d3cf2b7b"
      },
      "execution_count": null,
      "outputs": [
        {
          "output_type": "stream",
          "name": "stdout",
          "text": [
            "list to array:\n",
            "[1 2 3 4 5 6]\n",
            "tuple to array:\n",
            "[[8 4 6]\n",
            " [1 2 3]]\n"
          ]
        }
      ]
    },
    {
      "cell_type": "code",
      "source": [
        "import numpy as np\n",
        "E8=np.array([0,10,20,30,40,60])\n",
        "print(\"E8:\",E8)\n",
        "E51=[10,20,30,40]\n",
        "print(\"E8:\",E51)\n",
        "print(\"common values between two arrays:\")\n",
        "print(np.intersect1d(E8,E51))"
      ],
      "metadata": {
        "colab": {
          "base_uri": "https://localhost:8080/"
        },
        "id": "sgrDuM02v8Dy",
        "outputId": "0c7b35b1-98e6-4746-9a00-13ee0206b6ba"
      },
      "execution_count": 1,
      "outputs": [
        {
          "output_type": "stream",
          "name": "stdout",
          "text": [
            "E8: [ 0 10 20 30 40 60]\n",
            "E8: [10, 20, 30, 40]\n",
            "common values between two arrays:\n",
            "[10 20 30 40]\n"
          ]
        }
      ]
    },
    {
      "cell_type": "code",
      "source": [
        "def p(j62):\n",
        "   return j62==j62[::-2]#when -2 is given reversed string is not be equal to the original\n",
        "j62=\"madam\"\n",
        "answer=p(j62)\n",
        "if answer:\n",
        "  print(\"yes\")#returns yes when -1 is given\n",
        "else:\n",
        "  print(\"no\")"
      ],
      "metadata": {
        "colab": {
          "base_uri": "https://localhost:8080/"
        },
        "id": "kQ3DM6CsfoJl",
        "outputId": "94960e21-dc74-4260-ea65-04c1a21bbf0e"
      },
      "execution_count": 3,
      "outputs": [
        {
          "output_type": "stream",
          "name": "stdout",
          "text": [
            "no\n"
          ]
        }
      ]
    },
    {
      "cell_type": "code",
      "source": [
        "word=\"jahnavi\"\n",
        "word_with_commas=','.join(list(word))\n",
        "print(word_with_commas)"
      ],
      "metadata": {
        "id": "qO1XcDw_hZ5W",
        "colab": {
          "base_uri": "https://localhost:8080/"
        },
        "outputId": "918dd146-cc9d-4174-da32-eda01e647689"
      },
      "execution_count": null,
      "outputs": [
        {
          "output_type": "stream",
          "name": "stdout",
          "text": [
            "j,a,h,n,a,v,i\n"
          ]
        }
      ]
    },
    {
      "cell_type": "code",
      "source": [
        "c62=\"This is a test string.This word should be removed.\"\n",
        "result=c62.replace(\"This\",\"\")\n",
        "print(result)"
      ],
      "metadata": {
        "colab": {
          "base_uri": "https://localhost:8080/"
        },
        "id": "RB8peQs7O4c3",
        "outputId": "f698c81f-ef43-4dc1-98b4-86021ad936ce"
      },
      "execution_count": null,
      "outputs": [
        {
          "output_type": "stream",
          "name": "stdout",
          "text": [
            " is a test string. word should be removed.\n"
          ]
        }
      ]
    },
    {
      "cell_type": "code",
      "source": [
        "def capitalize_first_letter(sentence):\n",
        "  words=sentence.split()\n",
        "  print(words)\n",
        "  capitalized_words=[]\n",
        "  for word in words:\n",
        "    first_letter=word[0]\n",
        "    rest_of_word=word[1:].lower()\n",
        "    j62=first_letter.upper()+rest_of_word\n",
        "    capitalized_words.append(j62)\n",
        "  capitalized_sentence=''.join(capitalized_words)\n",
        "  return capitalized_sentence\n",
        "\n",
        "sentence=\"aNIL bAJ lOKESH\"\n",
        "result= capitalize_first_letter(sentence)\n",
        "print(result)"
      ],
      "metadata": {
        "colab": {
          "base_uri": "https://localhost:8080/"
        },
        "id": "fMeJ0TlhPrL_",
        "outputId": "420aa95c-a0fc-4f92-ae5e-6691554f04cf"
      },
      "execution_count": 6,
      "outputs": [
        {
          "output_type": "stream",
          "name": "stdout",
          "text": [
            "['aNIL', 'bAJ', 'lOKESH']\n",
            "AnilBajLokesh\n"
          ]
        }
      ]
    },
    {
      "cell_type": "code",
      "source": [
        "def unique_list(l):\n",
        "    v62 = []\n",
        "    for a in l:\n",
        "        if a in v62:\n",
        "            print(\"Removed element:\", a)\n",
        "        else:\n",
        "            v62.append(a)\n",
        "    return v62\n",
        "\n",
        "print(unique_list([4, 5, 6, 6, 7, 8, 8]))\n",
        "\n"
      ],
      "metadata": {
        "colab": {
          "base_uri": "https://localhost:8080/"
        },
        "id": "4eB-bHlUSAgL",
        "outputId": "e199c11b-ac5d-4800-cad3-d8c9f40e4aff"
      },
      "execution_count": 7,
      "outputs": [
        {
          "output_type": "stream",
          "name": "stdout",
          "text": [
            "Removed element: 6\n",
            "Removed element: 8\n",
            "[4, 5, 6, 7, 8]\n"
          ]
        }
      ]
    }
  ]
}