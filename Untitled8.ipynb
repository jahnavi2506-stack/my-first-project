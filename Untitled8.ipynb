{
  "nbformat": 4,
  "nbformat_minor": 0,
  "metadata": {
    "colab": {
      "provenance": [],
      "authorship_tag": "ABX9TyP7xDEGXC0fxH/x/bPXQuGC",
      "include_colab_link": true
    },
    "kernelspec": {
      "name": "python3",
      "display_name": "Python 3"
    },
    "language_info": {
      "name": "python"
    }
  },
  "cells": [
    {
      "cell_type": "markdown",
      "metadata": {
        "id": "view-in-github",
        "colab_type": "text"
      },
      "source": [
        "<a href=\"https://colab.research.google.com/github/jahnavi2506-stack/my-first-project/blob/main/Untitled8.ipynb\" target=\"_parent\"><img src=\"https://colab.research.google.com/assets/colab-badge.svg\" alt=\"Open In Colab\"/></a>"
      ]
    },
    {
      "cell_type": "code",
      "execution_count": null,
      "metadata": {
        "colab": {
          "base_uri": "https://localhost:8080/"
        },
        "id": "aHvZ9sI38V2m",
        "outputId": "70e0dc77-6d82-4562-dc56-b4072ddd6051"
      },
      "outputs": [
        {
          "output_type": "stream",
          "name": "stdout",
          "text": [
            "cse\n",
            "62\n",
            "23\n"
          ]
        },
        {
          "output_type": "execute_result",
          "data": {
            "text/plain": [
              "62"
            ]
          },
          "metadata": {},
          "execution_count": 10
        }
      ],
      "source": [
        "class cse:\n",
        "  __j=62\n",
        "  def __init__(self):\n",
        "    self.name=\"cse\"\n",
        "    self.rollno=62\n",
        "    self._id=23\n",
        "  def __display(self):\n",
        "    print(self.name)\n",
        "  def __disk(self):\n",
        "    print(self._id)\n",
        "h=cse()\n",
        "print(h.name)\n",
        "print(h.rollno)\n",
        "print(h._id)\n",
        "h._cse__j"
      ]
    },
    {
      "cell_type": "code",
      "source": [
        "class cse:\n",
        "  __name=None\n",
        "  _roll=None\n",
        "  __branch=None\n",
        "  def __init__(self,name,roll,branch):\n",
        "    self.__name=name\n",
        "    self._roll=roll\n",
        "    self.__branch=branch\n",
        "  def __display(self):\n",
        "    print(\"Name:\",self.__name)\n",
        "    print(\"Roll:\",self._roll)\n",
        "    print(\"Branch:\",self.__branch)\n",
        "  def accessprivatefunc(self):\n",
        "    self.__display()\n",
        "obj=cse(\"jahnavi\",62,\"cse\")\n",
        "obj.accessprivatefunc()\n",
        "\n"
      ],
      "metadata": {
        "colab": {
          "base_uri": "https://localhost:8080/"
        },
        "id": "pLYjlSC7-hix",
        "outputId": "ddeb8d02-394e-493d-c4c5-2e68e71d4df1"
      },
      "execution_count": null,
      "outputs": [
        {
          "output_type": "stream",
          "name": "stdout",
          "text": [
            "Name: jahnavi\n",
            "Roll: 62\n",
            "Branch: cse\n"
          ]
        }
      ]
    },
    {
      "cell_type": "code",
      "source": [
        "class Vehicle():\n",
        "  def vehicle_info(self):\n",
        "    print(\"it is vehicle class\")\n",
        "class car(Vehicle):\n",
        "  def car_info(self):\n",
        "    print(\"it is car class\")\n",
        "obj=car()\n",
        "obj.vehicle_info()\n",
        "obj.car_info()\n",
        "\n"
      ],
      "metadata": {
        "colab": {
          "base_uri": "https://localhost:8080/"
        },
        "id": "kOgCtpW_ETW8",
        "outputId": "3f5081f8-9534-456d-e97c-fc694acae4a7"
      },
      "execution_count": null,
      "outputs": [
        {
          "output_type": "stream",
          "name": "stdout",
          "text": [
            "it is vehicle class\n",
            "it is car class\n"
          ]
        }
      ]
    },
    {
      "cell_type": "code",
      "source": [
        "class parent1:\n",
        "  def parent1class(self):\n",
        "    print(\"this is first parent class\")\n",
        "class parent2:\n",
        "  def parent2class(self):\n",
        "    print(\"this is second parent class\")\n",
        "class child(parent1,parent2):\n",
        "  def childclass(self):\n",
        "    print(\"this is child class\")\n",
        "obj=child()\n",
        "obj.parent1class()\n",
        "obj.parent2class()\n",
        "obj.childclass()\n"
      ],
      "metadata": {
        "colab": {
          "base_uri": "https://localhost:8080/"
        },
        "id": "aiXkLBCDGNE3",
        "outputId": "c29259a8-d43a-4319-e007-c25f915525bb"
      },
      "execution_count": null,
      "outputs": [
        {
          "output_type": "stream",
          "name": "stdout",
          "text": [
            "this is first parent class\n",
            "this is second parent class\n",
            "this is child class\n"
          ]
        }
      ]
    }
  ]
}