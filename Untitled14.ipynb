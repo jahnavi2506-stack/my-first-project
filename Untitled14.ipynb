{
  "nbformat": 4,
  "nbformat_minor": 0,
  "metadata": {
    "colab": {
      "provenance": [],
      "authorship_tag": "ABX9TyP0Rhlekf8acayPV1dEutVS",
      "include_colab_link": true
    },
    "kernelspec": {
      "name": "python3",
      "display_name": "Python 3"
    },
    "language_info": {
      "name": "python"
    }
  },
  "cells": [
    {
      "cell_type": "markdown",
      "metadata": {
        "id": "view-in-github",
        "colab_type": "text"
      },
      "source": [
        "<a href=\"https://colab.research.google.com/github/jahnavi2506-stack/my-first-project/blob/main/Untitled14.ipynb\" target=\"_parent\"><img src=\"https://colab.research.google.com/assets/colab-badge.svg\" alt=\"Open In Colab\"/></a>"
      ]
    },
    {
      "cell_type": "code",
      "execution_count": null,
      "metadata": {
        "colab": {
          "base_uri": "https://localhost:8080/"
        },
        "id": "M3MIrOZXjcRj",
        "outputId": "c9924238-ff69-47d1-dc2f-c38f9da55589"
      },
      "outputs": [
        {
          "output_type": "stream",
          "name": "stdout",
          "text": [
            "\n",
            "Inventory Menu:\n",
            "1. Add Item\n",
            "2. Remove Item\n",
            "3. Display Inventory\n",
            "4. Exit\n",
            "Enter your choice: 1\n",
            "Enter the item name: Apple\n",
            "Enter the quantity: 100\n",
            "Added 100 of Apple to the inventory.\n",
            "\n",
            "Inventory Menu:\n",
            "1. Add Item\n",
            "2. Remove Item\n",
            "3. Display Inventory\n",
            "4. Exit\n",
            "Enter your choice: 2\n",
            "Enter the item name: Grapes\n",
            "Enter the quantity: 250\n",
            "Grapes does not exist in the inventory.\n",
            "\n",
            "Inventory Menu:\n",
            "1. Add Item\n",
            "2. Remove Item\n",
            "3. Display Inventory\n",
            "4. Exit\n",
            "Enter your choice: 3\n",
            "Current inventory:\n",
            "Apple: 100\n",
            "\n",
            "Inventory Menu:\n",
            "1. Add Item\n",
            "2. Remove Item\n",
            "3. Display Inventory\n",
            "4. Exit\n",
            "Enter your choice: 4\n",
            "Exiting the inventory system.\n"
          ]
        }
      ],
      "source": [
        "\n",
        "def add_item(inventory, item, quantity):\n",
        "    \"\"\"Add a specified quantity of an item to the inventory.\"\"\"\n",
        "    if item in inventory:\n",
        "        inventory[item] += quantity\n",
        "    else:\n",
        "        inventory[item] = quantity\n",
        "    print(f\"Added {quantity} of {item} to the inventory.\")\n",
        "\n",
        "def remove_item(inventory, item, quantity):\n",
        "    \"\"\"Remove a specified quantity of an item from the inventory.\"\"\"\n",
        "    if item in inventory:\n",
        "        if inventory[item] >= quantity:\n",
        "            inventory[item] -= quantity\n",
        "            if inventory[item] == 0:\n",
        "                del inventory[item]\n",
        "            print(f\"Removed {quantity} of {item} from the inventory.\")\n",
        "        else:\n",
        "            print(f\"Not enough {item} in inventory to remove {quantity}.\")\n",
        "    else:\n",
        "        print(f\"{item} does not exist in the inventory.\")\n",
        "\n",
        "def display_inventory(inventory):\n",
        "    \"\"\"Display the current inventory.\"\"\"\n",
        "    if not inventory:\n",
        "        print(\"The inventory is empty.\")\n",
        "    else:\n",
        "        print(\"Current inventory:\")\n",
        "        for item, quantity in inventory.items():\n",
        "            print(f\"{item}: {quantity}\")\n",
        "\n",
        "def main():\n",
        "    inventory = {}\n",
        "    while True:\n",
        "        print(\"\\nInventory Menu:\")\n",
        "        print(\"1. Add Item\")\n",
        "        print(\"2. Remove Item\")\n",
        "        print(\"3. Display Inventory\")\n",
        "        print(\"4. Exit\")\n",
        "        choice = input(\"Enter your choice: \")\n",
        "\n",
        "        if choice == '1':\n",
        "            item = input(\"Enter the item name: \")\n",
        "            quantity = int(input(\"Enter the quantity: \"))\n",
        "            add_item(inventory, item, quantity)\n",
        "        elif choice == '2':\n",
        "            item = input(\"Enter the item name: \")\n",
        "            quantity = int(input(\"Enter the quantity: \"))\n",
        "            remove_item(inventory, item, quantity)\n",
        "        elif choice == '3':\n",
        "            display_inventory(inventory)\n",
        "        elif choice == '4':\n",
        "            print(\"Exiting the inventory system.\")\n",
        "            break\n",
        "        else:\n",
        "            print(\"Invalid choice. Please try again.\")\n",
        "\n",
        "if __name__ == \"__main__\":\n",
        "    main()"
      ]
    },
    {
      "cell_type": "code",
      "source": [
        "b11=[\"samsung s24\",\"one plus\",\"iphone\",\"redmi\"]\n",
        "b11.append('realme nazro')\n",
        "print(b11)\n",
        "b11.insert(4,\"google pixel\")\n",
        "print(b11)\n",
        "print(\"removed element:\",b11.pop(2))\n",
        "print(\"updated list:\",b11)\n",
        "print(b11.sort())\n",
        "print(b11)\n",
        "for i in range(len(b11)):\n",
        "  print(\"the list at the index\",i,\"contains\",b11[i])\n",
        "b11=[\"samsung s24\",\"one plus\",\"iphone\",\"redmi\"]\n",
        "dict.fromkeys(b11,1)"
      ],
      "metadata": {
        "colab": {
          "base_uri": "https://localhost:8080/"
        },
        "id": "6duqWpdUBmPb",
        "outputId": "75187ee6-d2c6-4fe7-cc03-679b869a12c5"
      },
      "execution_count": null,
      "outputs": [
        {
          "output_type": "stream",
          "name": "stdout",
          "text": [
            "['samsung s24', 'one plus', 'iphone', 'redmi', 'realme nazro']\n",
            "['samsung s24', 'one plus', 'iphone', 'redmi', 'google pixel', 'realme nazro']\n",
            "removed element: iphone\n",
            "updated list: ['samsung s24', 'one plus', 'redmi', 'google pixel', 'realme nazro']\n",
            "None\n",
            "['google pixel', 'one plus', 'realme nazro', 'redmi', 'samsung s24']\n",
            "the list at the index 0 contains google pixel\n",
            "the list at the index 1 contains one plus\n",
            "the list at the index 2 contains realme nazro\n",
            "the list at the index 3 contains redmi\n",
            "the list at the index 4 contains samsung s24\n"
          ]
        },
        {
          "output_type": "execute_result",
          "data": {
            "text/plain": [
              "{'samsung s24': 1, 'one plus': 1, 'iphone': 1, 'redmi': 1}"
            ]
          },
          "metadata": {},
          "execution_count": 1
        }
      ]
    }
  ]
}