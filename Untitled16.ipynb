{
  "nbformat": 4,
  "nbformat_minor": 0,
  "metadata": {
    "colab": {
      "provenance": [],
      "authorship_tag": "ABX9TyMPOikdxaU4Fo7tGE9ts2TM",
      "include_colab_link": true
    },
    "kernelspec": {
      "name": "python3",
      "display_name": "Python 3"
    },
    "language_info": {
      "name": "python"
    }
  },
  "cells": [
    {
      "cell_type": "markdown",
      "metadata": {
        "id": "view-in-github",
        "colab_type": "text"
      },
      "source": [
        "<a href=\"https://colab.research.google.com/github/jahnavi2506-stack/my-first-project/blob/main/Untitled16.ipynb\" target=\"_parent\"><img src=\"https://colab.research.google.com/assets/colab-badge.svg\" alt=\"Open In Colab\"/></a>"
      ]
    },
    {
      "cell_type": "code",
      "source": [
        "#This mobile mart is started recently and the manager wanted to know the types of mobiles present in it.\n",
        "class Mobilemart:\n",
        "  _code=None\n",
        "  __name=None\n",
        "  __cost=None\n",
        "  def __init__(self,code,name,cost):\n",
        "    self._code=code\n",
        "    self.__name=name\n",
        "    self.__cost=cost\n",
        "  def __display(self):\n",
        "    print(\"Code:\",self._code)\n",
        "    print(\"Name:\",self.__name)\n",
        "    print(\"Cost:\",self.__cost)\n",
        "  def accessprivatefunc(self):\n",
        "    self.__display()\n",
        "obj1=Mobilemart(01,\"Redmi\",\"Twenty five thousand\")\n",
        "obj2=Mobilemart(02,\"Samsung\",\"Sixty three thousand\")\n",
        "obj3=Mobilemart(03,\"Vivo\",\"Thirty three thousand\")\n",
        "obj4=Mobilemart(04,\"iphone\",\"One lakh thirty thousand\")\n",
        "obj5=Mobilemart(05,\"Google pixel\",\"Fourty thousand\")\n",
        "obj6=Mobilemart(06,\"Oppo\",\"Fifty thousand\")\n",
        "obj7=Mobilemart(07,\"Realme nazro\",\"Thirteen thousand\")\n",
        "obj8=Mobilemart(08,\"OnePlus\",\"Fourty six thousand\")\n",
        "obj9=Mobilemart(09,\"Motorola\",\"Twenty eight thousand\")\n",
        "obj10=Mobilemart(10,\"Poco\",\"Nine thousand nine hundred and ninty nine\")\n",
        "\n",
        "obj1.accessprivatefunc()\n",
        "obj2.accessprivatefunc()\n",
        "obj3.accessprivatefunc()\n",
        "obj4.accessprivatefunc()\n",
        "obj5.accessprivatefunc()\n",
        "obj6.accessprivatefunc()\n",
        "obj7.accessprivatefunc()\n",
        "obj8.accessprivatefunc()\n",
        "obj9.accessprivatefunc()\n",
        "obj10.accessprivatefunc()\n",
        "def main():\n",
        "  while True:\n",
        "    choice=input(\"Enter your choice:\")\n",
        "    if choice==\"j\":\n",
        "       break\n",
        "    elif choice==\"1\":\n",
        "       obj1.accessprivatefunc()\n",
        "    elif choice==\"2\":\n",
        "       obj2.accessprivatefunc()\n",
        "    elif choice==\"3\":\n",
        "       obj3.accessprivatefunc()\n",
        "    elif choice==\"4\":\n",
        "       obj4.accessprivatefunc()\n",
        "    elif choice==\"5\":\n",
        "       obj5.accessprivatefunc()\n",
        "    elif choice==\"6\":\n",
        "       obj6.accessprivatefunc()\n",
        "    elif choice==\"7\":\n",
        "       obj7.accessprivatefunc()\n",
        "    elif choice==\"8\":\n",
        "       obj8.accessprivatefunc()\n",
        "    elif choice==\"9\":\n",
        "       obj9.accessprivatefunc()\n",
        "    else:\n",
        "       obj10.accessprivatefunc()\n",
        "main()\n",
        "\n",
        "\n"
      ],
      "metadata": {
        "colab": {
          "base_uri": "https://localhost:8080/"
        },
        "id": "4Kk-L9qiYKfE",
        "outputId": "e126aafd-52dd-4410-bf07-2bc0852c0550"
      },
      "execution_count": null,
      "outputs": [
        {
          "name": "stdout",
          "output_type": "stream",
          "text": [
            "Code: 1\n",
            "Name: redmi\n",
            "Cost: Twenty five thousand\n",
            "Code: 2\n",
            "Name: samsung\n",
            "Cost: Sixty three thousand\n",
            "Code: 3\n",
            "Name: vivo\n",
            "Cost: Thirty three thousand\n",
            "Code: 4\n",
            "Name: iphone\n",
            "Cost: One lakh thirty thousand\n",
            "Code: 5\n",
            "Name: google pixel\n",
            "Cost: Fourty thousand\n",
            "Code: 6\n",
            "Name: oppo\n",
            "Cost: Fifty thousand\n",
            "Code: 7\n",
            "Name: realme nazro\n",
            "Cost: Thirteen thousand\n",
            "Code: 8\n",
            "Name: OnePlus\n",
            "Cost: Fourty six thousand\n",
            "Code: 9\n",
            "Name: Motorola\n",
            "Cost: Twenty eight thousand\n",
            "Code: 10\n",
            "Name: Poco\n",
            "Cost: Nine thousand nine hundred and ninty nine\n",
            "Enter your choice:5\n",
            "Code: 5\n",
            "Name: google pixel\n",
            "Cost: Fourty thousand\n",
            "Enter your choice:6\n",
            "Code: 6\n",
            "Name: oppo\n",
            "Cost: Fifty thousand\n",
            "Enter your choice:j\n"
          ]
        }
      ]
    },
    {
      "cell_type": "code",
      "source": [
        "b11=[\"samsung s24\",\"one plus\",\"iphone\",\"redmi\"]\n",
        "b11.append('realme nazro')\n",
        "print(b11)\n",
        "b11.insert(4,\"google pixel\")\n",
        "print(b11)\n",
        "print(\"removed element:\",b11.pop(2))\n",
        "print(\"updated list:\",b11)\n",
        "print(b11.sort())\n",
        "print(b11)\n",
        "for i in range(len(b11)):\n",
        "  print(\"the list at the index\",i,\"contains\",b11[i])\n",
        "b11=[\"samsung s24\",\"one plus\",\"iphone\",\"redmi\"]\n",
        "dict.fromkeys(b11,1)"
      ],
      "metadata": {
        "colab": {
          "base_uri": "https://localhost:8080/"
        },
        "id": "hqPiVh34vZDV",
        "outputId": "960c34d1-d40d-4723-9837-fc519e9d774f"
      },
      "execution_count": null,
      "outputs": [
        {
          "output_type": "stream",
          "name": "stdout",
          "text": [
            "['samsung s24', 'one plus', 'iphone', 'redmi', 'realme nazro']\n",
            "['samsung s24', 'one plus', 'iphone', 'redmi', 'google pixel', 'realme nazro']\n",
            "removed element: iphone\n",
            "updated list: ['samsung s24', 'one plus', 'redmi', 'google pixel', 'realme nazro']\n",
            "None\n",
            "['google pixel', 'one plus', 'realme nazro', 'redmi', 'samsung s24']\n",
            "the list at the index 0 contains google pixel\n",
            "the list at the index 1 contains one plus\n",
            "the list at the index 2 contains realme nazro\n",
            "the list at the index 3 contains redmi\n",
            "the list at the index 4 contains samsung s24\n"
          ]
        },
        {
          "output_type": "execute_result",
          "data": {
            "text/plain": [
              "{'samsung s24': 1, 'one plus': 1, 'iphone': 1, 'redmi': 1}"
            ]
          },
          "metadata": {},
          "execution_count": 10
        }
      ]
    }
  ]
}